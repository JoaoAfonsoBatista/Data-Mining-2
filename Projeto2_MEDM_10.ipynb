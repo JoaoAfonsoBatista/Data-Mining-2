{
 "cells": [
  {
   "cell_type": "markdown",
   "id": "49333279",
   "metadata": {},
   "source": [
    "# Métodos Estatísticos em Data Mining\n",
    "### Projeto 2\n",
    "\n",
    "##### Grupo 10:\n",
    "- 88174 Marisa Pereira \n",
    "- 89616 Beatriz Silva  \n",
    "- 89629 João Batista \n",
    "- 89640 Tomás Freire\n",
    "\n",
    "\n",
    "May 31st, 2021"
   ]
  },
  {
   "cell_type": "markdown",
   "id": "51618cc6",
   "metadata": {},
   "source": [
    "# 1. Libraries"
   ]
  },
  {
   "cell_type": "code",
   "execution_count": 1,
   "id": "f794e286",
   "metadata": {},
   "outputs": [],
   "source": [
    "#install.packages(\"mice\")\n",
    "#install.packages(\"corrplot\")\n",
    "#install.packages(\"ggplot2\")\n",
    "#install.packages(\"psych\")\n",
    "#install.packages(\"MASS\")\n",
    "#install.packages(\"comprehenr\")\n",
    "#install.packages(\"rpart\")\n",
    "#install.packages(\"rpart.plot\")\n",
    "#install.packages(\"caTools\")\n",
    "#install.packages(\"neuralnet\")\n",
    "#install.packages(\"logisticPCA\")\n",
    "#install.packages(\"mlr\") \n",
    "#install.packages(\"imbalance\") \n",
    "#install.packages(\"caret\")\n",
    "#install.packages(\"sats\")\n",
    "#install.packages(\"dplyr\")\n",
    "#install.packages(\"tidyverse\")\n",
    "#install.packages(\"funModeling\")\n",
    "#install.packages(\"Hmisc\")\n",
    "#install.packages(\"factoextra\")\n",
    "#install.packages(\"ggplot2\")\n",
    "#install.packages(\"grid\")\n",
    "#install.packages(\"devtools\")\n",
    "#install.packages(\"factoextra\")\n",
    "#install.packages(\"e1071\")\n",
    "#install.packages(\"caret\")\n",
    "#install.packages(\"pROC\")\n",
    "#install.packages(\"base\")\n",
    "#install.packages(\"MLmetrics\")\n",
    "#install.packages(\"nnet\")\n",
    "#install.packages(\"rpart\")\n",
    "#install.packages(\"rpart.plot\")\n",
    "#install.packages(\"klaR\")\n",
    "#install.packages(\"imbalance\")\n",
    "#install.packages(\"cluster\")\n",
    "#install.packages(\"clusterCrit\")\n",
    "#install.packages(\"fpc\")\n",
    "#install.packages(\"dbscan\")\n",
    "#install.packages(\"kernlab\")\n",
    "#install.packages(\"ClusterR\", repos='http://cran.us.r-project.org')\n",
    "#install.packages(\"factoextra\")\n",
    "#install.packages(\"gmp\", repos='http://cran.us.r-project.org')\n",
    "#install.packages(\"Spectrum\")\n",
    "#install.packages(\"mstknnclust\")\n",
    "#install.packages(\"gmp\")\n",
    "#install.packages(\"ClusterR\")"
   ]
  },
  {
   "cell_type": "code",
   "execution_count": 2,
   "id": "0e3c4914",
   "metadata": {
    "scrolled": true
   },
   "outputs": [
    {
     "name": "stderr",
     "output_type": "stream",
     "text": [
      "Warning message:\n",
      "\"package 'dplyr' was built under R version 3.6.3\"\n",
      "Attaching package: 'dplyr'\n",
      "\n",
      "The following objects are masked from 'package:stats':\n",
      "\n",
      "    filter, lag\n",
      "\n",
      "The following objects are masked from 'package:base':\n",
      "\n",
      "    intersect, setdiff, setequal, union\n",
      "\n",
      "Warning message:\n",
      "\"package 'funModeling' was built under R version 3.6.3\"Loading required package: Hmisc\n",
      "Warning message:\n",
      "\"package 'Hmisc' was built under R version 3.6.3\"Loading required package: lattice\n",
      "Loading required package: survival\n",
      "Warning message:\n",
      "\"package 'survival' was built under R version 3.6.3\"Loading required package: Formula\n",
      "Warning message:\n",
      "\"package 'Formula' was built under R version 3.6.3\"Loading required package: ggplot2\n",
      "Warning message:\n",
      "\"package 'ggplot2' was built under R version 3.6.3\"\n",
      "Attaching package: 'Hmisc'\n",
      "\n",
      "The following objects are masked from 'package:dplyr':\n",
      "\n",
      "    src, summarize\n",
      "\n",
      "The following objects are masked from 'package:base':\n",
      "\n",
      "    format.pval, units\n",
      "\n",
      "funModeling v.1.9.4 :)\n",
      "Examples and tutorials at livebook.datascienceheroes.com\n",
      " / Now in Spanish: librovivodecienciadedatos.ai\n",
      "Warning message:\n",
      "\"package 'factoextra' was built under R version 3.6.3\"Welcome! Want to learn more? See two factoextra-related books at https://goo.gl/ve3WBa\n",
      "Warning message:\n",
      "\"package 'devtools' was built under R version 3.6.3\"Loading required package: usethis\n",
      "Warning message:\n",
      "\"package 'usethis' was built under R version 3.6.3\"------------------------------------------------------------------------------\n",
      "You have loaded plyr after dplyr - this is likely to cause problems.\n",
      "If you need functions from both plyr and dplyr, please load plyr first, then dplyr:\n",
      "library(plyr); library(dplyr)\n",
      "------------------------------------------------------------------------------\n",
      "\n",
      "Attaching package: 'plyr'\n",
      "\n",
      "The following objects are masked from 'package:Hmisc':\n",
      "\n",
      "    is.discrete, summarize\n",
      "\n",
      "The following objects are masked from 'package:dplyr':\n",
      "\n",
      "    arrange, count, desc, failwith, id, mutate, rename, summarise,\n",
      "    summarize\n",
      "\n",
      "Warning message:\n",
      "\"package 'e1071' was built under R version 3.6.3\"\n",
      "Attaching package: 'e1071'\n",
      "\n",
      "The following object is masked from 'package:Hmisc':\n",
      "\n",
      "    impute\n",
      "\n",
      "Warning message:\n",
      "\"package 'caret' was built under R version 3.6.3\"\n",
      "Attaching package: 'caret'\n",
      "\n",
      "The following object is masked from 'package:survival':\n",
      "\n",
      "    cluster\n",
      "\n",
      "Warning message:\n",
      "\"package 'pROC' was built under R version 3.6.3\"Type 'citation(\"pROC\")' for a citation.\n",
      "\n",
      "Attaching package: 'pROC'\n",
      "\n",
      "The following objects are masked from 'package:stats':\n",
      "\n",
      "    cov, smooth, var\n",
      "\n",
      "Warning message:\n",
      "\"package 'MLmetrics' was built under R version 3.6.3\"\n",
      "Attaching package: 'MLmetrics'\n",
      "\n",
      "The following objects are masked from 'package:caret':\n",
      "\n",
      "    MAE, RMSE\n",
      "\n",
      "The following object is masked from 'package:base':\n",
      "\n",
      "    Recall\n",
      "\n",
      "Warning message:\n",
      "\"package 'nnet' was built under R version 3.6.3\"Warning message:\n",
      "\"package 'rpart' was built under R version 3.6.3\"Warning message:\n",
      "\"package 'rpart.plot' was built under R version 3.6.3\"Warning message:\n",
      "\"package 'klaR' was built under R version 3.6.3\"Loading required package: MASS\n",
      "Warning message:\n",
      "\"package 'MASS' was built under R version 3.6.3\"\n",
      "Attaching package: 'MASS'\n",
      "\n",
      "The following object is masked from 'package:dplyr':\n",
      "\n",
      "    select\n",
      "\n",
      "Registered S3 method overwritten by 'shiny':\n",
      "  method            from   \n",
      "  print.key_missing fastmap\n",
      "Warning message:\n",
      "\"package 'imbalance' was built under R version 3.6.3\"Warning message:\n",
      "\"package 'cluster' was built under R version 3.6.3\"Warning message:\n",
      "\"package 'clusterCrit' was built under R version 3.6.3\"\n",
      "Attaching package: 'clusterCrit'\n",
      "\n",
      "The following object is masked from 'package:survival':\n",
      "\n",
      "    concordance\n",
      "\n",
      "Warning message:\n",
      "\"package 'fpc' was built under R version 3.6.3\"Warning message:\n",
      "\"package 'dbscan' was built under R version 3.6.3\"\n",
      "Attaching package: 'dbscan'\n",
      "\n",
      "The following object is masked from 'package:fpc':\n",
      "\n",
      "    dbscan\n",
      "\n",
      "\n",
      "Attaching package: 'kernlab'\n",
      "\n",
      "The following object is masked from 'package:ggplot2':\n",
      "\n",
      "    alpha\n",
      "\n",
      "Warning message:\n",
      "\"package 'mstknnclust' was built under R version 3.6.3\"Warning message:\n",
      "\"package 'Spectrum' was built under R version 3.6.3\""
     ]
    }
   ],
   "source": [
    "library(\"stats\")\n",
    "library(\"dplyr\")\n",
    "#library(\"tidyverse\")\n",
    "library(\"funModeling\")\n",
    "library(\"Hmisc\")\n",
    "library(\"ggplot2\")\n",
    "library(\"grid\")\n",
    "library(\"factoextra\")\n",
    "library(\"devtools\")\n",
    "library(\"plyr\")\n",
    "library(\"factoextra\")\n",
    "library(\"e1071\")\n",
    "library(\"caret\")\n",
    "library(\"pROC\")\n",
    "library(\"base\")\n",
    "library(\"MLmetrics\")\n",
    "library(\"nnet\")\n",
    "library(\"rpart\")\n",
    "library(\"rpart.plot\")\n",
    "library(\"klaR\")\n",
    "library(\"imbalance\")\n",
    "library(\"MASS\")\n",
    "library(\"comprehenr\")\n",
    "library(\"cluster\")\n",
    "library(\"clusterCrit\")\n",
    "library(\"fpc\")\n",
    "library(\"dbscan\")\n",
    "library(\"kernlab\")\n",
    "library(\"factoextra\")\n",
    "library(\"mstknnclust\")\n",
    "#library(\"Spectrum\")"
   ]
  },
  {
   "cell_type": "markdown",
   "id": "4bbbc4ce",
   "metadata": {},
   "source": [
    "# 2. Loading the Datasets"
   ]
  },
  {
   "cell_type": "code",
   "execution_count": 5,
   "id": "6921d92b",
   "metadata": {},
   "outputs": [],
   "source": [
    "df <- read.csv(\"data_final.csv\")\n",
    "df$resposta<- as.factor(df$resposta)"
   ]
  },
  {
   "cell_type": "markdown",
   "id": "edf93116",
   "metadata": {},
   "source": [
    "# 2. Clustering "
   ]
  },
  {
   "cell_type": "code",
   "execution_count": 6,
   "id": "af56156b",
   "metadata": {},
   "outputs": [],
   "source": [
    "# Single, complete and average linkage + Ward Method\n",
    "data_single<-agnes(df[,-c(1,35)], metric = \"euclidean\",stand = FALSE, method = \"single\", keep.data = FALSE)\n",
    "data_complete<-agnes(df[,-c(1,35)], metric = \"euclidean\",stand = FALSE, method = \"complete\", keep.data = FALSE)\n",
    "data_average<-agnes(df[,-c(1,35)], metric = \"euclidean\",stand = FALSE, method = \"average\", keep.data = FALSE)\n",
    "data_ward<-agnes(df[,-c(1,35)], metric = \"euclidean\",stand = FALSE, method = \"ward\", keep.data = FALSE)\n",
    "data_diana<-diana(df[,-c(1,35)], metric = \"euclidean\",stand = FALSE,  keep.data = FALSE)"
   ]
  },
  {
   "cell_type": "code",
   "execution_count": 7,
   "id": "471f2018",
   "metadata": {
    "scrolled": true
   },
   "outputs": [
    {
     "data": {
      "image/png": "[encoded data removed]",
      "text/plain": [
       "Plot with title \"Ward Method\""
      ]
     },
     "metadata": {},
     "output_type": "display_data"
    },
    {
     "data": {
      "image/png": "[encoded data removed]",
      "text/plain": [
       "Plot with title \"Diana\""
      ]
     },
     "metadata": {},
     "output_type": "display_data"
    }
   ],
   "source": [
    "#Dendogram for Single, complete and average linkage + Ward Method\n",
    "par(mfrow=c(2,2))\n",
    "pltree(data_single,main=\"Single linkage\", cex=0.83,xlab=\"\")\n",
    "pltree(data_complete,main=\"Complete linkage\",cex=0.83,xlab=\"\")\n",
    "pltree(data_average,main=\"Average linkage\", cex=0.83,xlab=\"\")\n",
    "pltree(data_ward,main=\"Ward Method\", cex=0.83,xlab=\"\")\n",
    "pltree(data_diana,main=\"Diana\", cex=0.83,xlab=\"\")\n",
    "par(mfrow=c(1,1))"
   ]
  },
  {
   "cell_type": "markdown",
   "id": "434aaf91",
   "metadata": {},
   "source": [
    "best number of clusters for these hierartical methods:"
   ]
  },
  {
   "cell_type": "code",
   "execution_count": 8,
   "id": "feee05b3",
   "metadata": {},
   "outputs": [],
   "source": [
    "show <- function(ASW){\n",
    "print(ks[which.max(ASW[1,])])\n",
    "print(ks[which.min(ASW[2,])])\n",
    "print(ks[which.max(ASW[3,])])\n",
    "print(ks[which.min(ASW[4,])])\n",
    "\n",
    "plot(ks, ASW[1,], type=\"l\")\n",
    "abline(v=ks[which.max(ASW[1,])], col=\"red\", lty=2)\n",
    "\n",
    "plot(ks, ASW[2,], type=\"l\")\n",
    "abline(v=ks[which.min(ASW[2,])], col=\"red\", lty=2)\n",
    "\n",
    "plot(ks, ASW[3,], type=\"l\")\n",
    "abline(v=ks[which.max(ASW[3,])], col=\"red\", lty=2)\n",
    "\n",
    "plot(ks, ASW[4,], type=\"l\")\n",
    "abline(v=ks[which.min(ASW[4,])], col=\"red\", lty=2)\n",
    "}"
   ]
  },
  {
   "cell_type": "code",
   "execution_count": 12,
   "id": "deb83ed0",
   "metadata": {},
   "outputs": [
    {
     "name": "stdout",
     "output_type": "stream",
     "text": [
      "[1] 3\n",
      "[1] 2\n",
      "[1] 2\n",
      "[1] 19\n"
     ]
    },
    {
     "data": {
      "image/png": "[encoded data removed]",
      "text/plain": [
       "plot without title"
      ]
     },
     "metadata": {},
     "output_type": "display_data"
    },
    {
     "data": {
      "image/png": "[encoded data removed]",
      "text/plain": [
       "plot without title"
      ]
     },
     "metadata": {},
     "output_type": "display_data"
    },
    {
     "data": {
      "image/png": "[encoded data removed]",
      "text/plain": [
       "plot without title"
      ]
     },
     "metadata": {},
     "output_type": "display_data"
    },
    {
     "data": {
      "image/png": "[encoded data removed]",
      "text/plain": [
       "plot without title"
      ]
     },
     "metadata": {},
     "output_type": "display_data"
    }
   ],
   "source": [
    "ks <- 2:20\n",
    "ASW <- sapply(ks, FUN=function(k) {\n",
    "  data_aux <- cutree(data_single,k)\n",
    "  as.numeric(intCriteria(as.matrix(df[,-c(1,35)]),data_aux,c(\"Dunn\",\"C_index\",\"Calinski_Harabasz\",\"Ball_Hall\")))\n",
    "})\n",
    "show(ASW)"
   ]
  },
  {
   "cell_type": "code",
   "execution_count": 13,
   "id": "626d9199",
   "metadata": {},
   "outputs": [
    {
     "name": "stdout",
     "output_type": "stream",
     "text": [
      "[1] 2\n",
      "[1] 4\n",
      "[1] 3\n",
      "[1] 4\n"
     ]
    },
    {
     "data": {
      "image/png": "[encoded data removed]",
      "text/plain": [
       "plot without title"
      ]
     },
     "metadata": {},
     "output_type": "display_data"
    },
    {
     "data": {
      "image/png": "[encoded data removed]",
      "text/plain": [
       "plot without title"
      ]
     },
     "metadata": {},
     "output_type": "display_data"
    },
    {
     "data": {
      "image/png": "[encoded data removed]",
      "text/plain": [
       "plot without title"
      ]
     },
     "metadata": {},
     "output_type": "display_data"
    },
    {
     "data": {
      "image/png": "[encoded data removed]",
      "text/plain": [
       "plot without title"
      ]
     },
     "metadata": {},
     "output_type": "display_data"
    }
   ],
   "source": [
    "ks <- 2:20\n",
    "ASW <- sapply(ks, FUN=function(k) {\n",
    "  data_aux <- cutree(data_complete,k)\n",
    "  as.numeric(intCriteria(as.matrix(df[,-c(1,35)]),data_aux,c(\"Dunn\",\"C_index\",\"Calinski_Harabasz\",\"Ball_Hall\")))\n",
    "})\n",
    "show(ASW)"
   ]
  },
  {
   "cell_type": "code",
   "execution_count": 14,
   "id": "49ae7700",
   "metadata": {},
   "outputs": [
    {
     "name": "stdout",
     "output_type": "stream",
     "text": [
      "[1] 3\n",
      "[1] 2\n",
      "[1] 4\n",
      "[1] 3\n"
     ]
    },
    {
     "data": {
      "image/png": "[encoded data removed]",
      "text/plain": [
       "plot without title"
      ]
     },
     "metadata": {},
     "output_type": "display_data"
    },
    {
     "data": {
      "image/png": "[encoded data removed]",
      "text/plain": [
       "plot without title"
      ]
     },
     "metadata": {},
     "output_type": "display_data"
    },
    {
     "data": {
      "image/png": "[encoded data removed]",
      "text/plain": [
       "plot without title"
      ]
     },
     "metadata": {},
     "output_type": "display_data"
    },
    {
     "data": {
      "image/png": "[encoded data removed]",
      "text/plain": [
       "plot without title"
      ]
     },
     "metadata": {},
     "output_type": "display_data"
    }
   ],
   "source": [
    "ks <- 2:20\n",
    "ASW <- sapply(ks, FUN=function(k) {\n",
    "  data_aux <- cutree(data_average,k)\n",
    "  as.numeric(intCriteria(as.matrix(df[,-c(1,35)]),data_aux,c(\"Dunn\",\"C_index\",\"Calinski_Harabasz\",\"Ball_Hall\")))\n",
    "})\n",
    "show(ASW)"
   ]
  },
  {
   "cell_type": "code",
   "execution_count": 15,
   "id": "a096a156",
   "metadata": {},
   "outputs": [
    {
     "name": "stdout",
     "output_type": "stream",
     "text": [
      "[1] 2\n",
      "[1] 12\n",
      "[1] 2\n",
      "[1] 20\n"
     ]
    },
    {
     "data": {
      "image/png": "[encoded data removed]",
      "text/plain": [
       "plot without title"
      ]
     },
     "metadata": {},
     "output_type": "display_data"
    },
    {
     "data": {
      "image/png": "[encoded data removed]",
      "text/plain": [
       "plot without title"
      ]
     },
     "metadata": {},
     "output_type": "display_data"
    },
    {
     "data": {
      "image/png": "[encoded data removed]",
      "text/plain": [
       "plot without title"
      ]
     },
     "metadata": {},
     "output_type": "display_data"
    },
    {
     "data": {
      "image/png": "[encoded data removed]",
      "text/plain": [
       "plot without title"
      ]
     },
     "metadata": {},
     "output_type": "display_data"
    }
   ],
   "source": [
    "ks <- 2:20\n",
    "ASW <- sapply(ks, FUN=function(k) {\n",
    "  data_aux <- cutree(data_ward,k)\n",
    "  as.numeric(intCriteria(as.matrix(df[,-c(1,35)]),data_aux,c(\"Dunn\",\"C_index\",\"Calinski_Harabasz\",\"Ball_Hall\")))\n",
    "})\n",
    "show(ASW)"
   ]
  },
  {
   "cell_type": "code",
   "execution_count": 16,
   "id": "59ba9bc9",
   "metadata": {},
   "outputs": [
    {
     "name": "stdout",
     "output_type": "stream",
     "text": [
      "[1] 19\n",
      "[1] 18\n",
      "[1] 2\n",
      "[1] 6\n"
     ]
    },
    {
     "data": {
      "image/png": "[encoded data removed]",
      "text/plain": [
       "plot without title"
      ]
     },
     "metadata": {},
     "output_type": "display_data"
    },
    {
     "data": {
      "image/png": "[encoded data removed]",
      "text/plain": [
       "plot without title"
      ]
     },
     "metadata": {},
     "output_type": "display_data"
    },
    {
     "data": {
      "image/png": "[encoded data removed]",
      "text/plain": [
       "plot without title"
      ]
     },
     "metadata": {},
     "output_type": "display_data"
    },
    {
     "data": {
      "image/png": "[encoded data removed]",
      "text/plain": [
       "plot without title"
      ]
     },
     "metadata": {},
     "output_type": "display_data"
    }
   ],
   "source": [
    "ks <- 2:20\n",
    "ASW <- sapply(ks, FUN=function(k) {\n",
    "  data_aux <- cutree(data_diana,k)\n",
    "  as.numeric(intCriteria(as.matrix(df[,-c(1,35)]),data_aux,c(\"Dunn\",\"C_index\",\"Calinski_Harabasz\",\"Ball_Hall\")))\n",
    "})\n",
    "show(ASW)"
   ]
  },
  {
   "cell_type": "markdown",
   "id": "602af2a0",
   "metadata": {},
   "source": [
    "Best number of cluster for partition methods:"
   ]
  },
  {
   "cell_type": "code",
   "execution_count": 17,
   "id": "15b08014",
   "metadata": {},
   "outputs": [
    {
     "name": "stdout",
     "output_type": "stream",
     "text": [
      "[1] 17\n",
      "[1] 20\n",
      "[1] 2\n",
      "[1] 20\n"
     ]
    },
    {
     "data": {
      "image/png": "[encoded data removed]",
      "text/plain": [
       "plot without title"
      ]
     },
     "metadata": {},
     "output_type": "display_data"
    },
    {
     "data": {
      "image/png": "[encoded data removed]",
      "text/plain": [
       "plot without title"
      ]
     },
     "metadata": {},
     "output_type": "display_data"
    },
    {
     "data": {
      "image/png": "[encoded data removed]",
      "text/plain": [
       "plot without title"
      ]
     },
     "metadata": {},
     "output_type": "display_data"
    },
    {
     "data": {
      "image/png": "[encoded data removed]",
      "text/plain": [
       "plot without title"
      ]
     },
     "metadata": {},
     "output_type": "display_data"
    }
   ],
   "source": [
    "ks <- 2:20\n",
    "ASW <- sapply(ks, FUN=function(k) {\n",
    "  data_aux <- kmeans(df[,-c(1,35)],centers=k)$cluster\n",
    "  as.numeric(intCriteria(as.matrix(df[,-c(1,35)]),data_aux,c(\"Dunn\",\"C_index\",\"Calinski_Harabasz\",\"Ball_Hall\")))\n",
    "})\n",
    "show(ASW)"
   ]
  },
  {
   "cell_type": "code",
   "execution_count": 19,
   "id": "f1b4c3fe",
   "metadata": {},
   "outputs": [
    {
     "name": "stdout",
     "output_type": "stream",
     "text": [
      "[1] 20\n",
      "[1] 20\n",
      "[1] 2\n",
      "[1] 20\n"
     ]
    },
    {
     "data": {
      "image/png": "[encoded data removed]",
      "text/plain": [
       "plot without title"
      ]
     },
     "metadata": {},
     "output_type": "display_data"
    },
    {
     "data": {
      "image/png": "[encoded data removed]",
      "text/plain": [
       "plot without title"
      ]
     },
     "metadata": {},
     "output_type": "display_data"
    },
    {
     "data": {
      "image/png": "[encoded data removed]",
      "text/plain": [
       "plot without title"
      ]
     },
     "metadata": {},
     "output_type": "display_data"
    },
    {
     "data": {
      "image/png": "[encoded data removed]",
      "text/plain": [
       "plot without title"
      ]
     },
     "metadata": {},
     "output_type": "display_data"
    }
   ],
   "source": [
    "ks <- 2:20\n",
    "ASW <- sapply(ks, FUN=function(k) {\n",
    "  data_aux <- pam(df[,-c(1,35)],k=k,metric = \"euclidean\",stand = FALSE)$cluster\n",
    "  as.numeric(intCriteria(as.matrix(df[,-c(1,35)]),data_aux,c(\"Dunn\",\"C_index\",\"Calinski_Harabasz\",\"Ball_Hall\")))\n",
    "})\n",
    "show(ASW)"
   ]
  },
  {
   "cell_type": "code",
   "execution_count": 9,
   "id": "7b5ace18",
   "metadata": {},
   "outputs": [],
   "source": [
    "#Partioning dataset into two clusters (now considering k-means and k-medoids as well)\n",
    "data_single_cluster<-cutree(data_single,2)\n",
    "data_complete_cluster<-cutree(data_complete,2)\n",
    "data_average_cluster<-cutree(data_average,2)\n",
    "data_ward_cluster<-cutree(data_ward,2)\n",
    "k1<-kmeans(df[,-c(1,35)],centers=2)\n",
    "k2<-pam(df[,-c(1,35)],k=2,metric = \"euclidean\",stand = FALSE)\n",
    "data_diana_cluster<-cutree(data_diana,2)"
   ]
  },
  {
   "cell_type": "code",
   "execution_count": null,
   "id": "6af37e85",
   "metadata": {},
   "outputs": [],
   "source": []
  },
  {
   "cell_type": "code",
   "execution_count": 10,
   "id": "6cd68835",
   "metadata": {},
   "outputs": [
    {
     "data": {
      "text/plain": [
       "                   \n",
       "data_single_cluster    0    1\n",
       "                  1 1645   54\n",
       "                  2    1    0"
      ]
     },
     "metadata": {},
     "output_type": "display_data"
    },
    {
     "data": {
      "text/plain": [
       "                     \n",
       "data_complete_cluster    0    1\n",
       "                    1 1645   54\n",
       "                    2    1    0"
      ]
     },
     "metadata": {},
     "output_type": "display_data"
    },
    {
     "data": {
      "text/plain": [
       "                    \n",
       "data_average_cluster    0    1\n",
       "                   1 1645   54\n",
       "                   2    1    0"
      ]
     },
     "metadata": {},
     "output_type": "display_data"
    },
    {
     "data": {
      "text/plain": [
       "                 \n",
       "data_ward_cluster    0    1\n",
       "                1 1552   48\n",
       "                2   94    6"
      ]
     },
     "metadata": {},
     "output_type": "display_data"
    },
    {
     "data": {
      "text/plain": [
       "   \n",
       "       0    1\n",
       "  1 1217   33\n",
       "  2  429   21"
      ]
     },
     "metadata": {},
     "output_type": "display_data"
    },
    {
     "data": {
      "text/plain": [
       "   \n",
       "      0   1\n",
       "  1 981  24\n",
       "  2 665  30"
      ]
     },
     "metadata": {},
     "output_type": "display_data"
    },
    {
     "data": {
      "text/plain": [
       "                  \n",
       "data_diana_cluster    0    1\n",
       "                 1 1510   46\n",
       "                 2  136    8"
      ]
     },
     "metadata": {},
     "output_type": "display_data"
    }
   ],
   "source": [
    "#Confusion matrix of different partitioning methods, considering the real classes of the original data\n",
    "table(data_single_cluster,df[,35])\n",
    "table(data_complete_cluster,df[,35])\n",
    "table(data_average_cluster,df[,35])\n",
    "table(data_ward_cluster,df[,35])\n",
    "table(k1$cluster,df[,35])\n",
    "table(k2$cluster,df[,35])\n",
    "table(data_diana_cluster,df[,35])"
   ]
  },
  {
   "cell_type": "code",
   "execution_count": 31,
   "id": "d788a5d9",
   "metadata": {
    "scrolled": false
   },
   "outputs": [
    {
     "data": {
      "image/png": "[encoded data removed]",
      "text/plain": [
       "plot without title"
      ]
     },
     "metadata": {},
     "output_type": "display_data"
    }
   ],
   "source": [
    "#Find eps for DBScan\n",
    "kNNdistplot(df[,-c(1,35)], k=3)"
   ]
  },
  {
   "cell_type": "code",
   "execution_count": 16,
   "id": "2698b2a6",
   "metadata": {},
   "outputs": [
    {
     "name": "stderr",
     "output_type": "stream",
     "text": [
      "Warning message in dbscan(df[, -c(1, 35)], eps = 51, MinPts = 3):\n",
      "\"converting argument MinPts (fpc) to minPts (dbscan)!\""
     ]
    },
    {
     "data": {
      "text/plain": [
       "DBSCAN clustering for 1700 objects.\n",
       "Parameters: eps = 51, minPts = 3\n",
       "The clustering contains 2 cluster(s) and 65 noise points.\n",
       "\n",
       "   0    1    2 \n",
       "  65 1632    3 \n",
       "\n",
       "Available fields: cluster, eps, minPts"
      ]
     },
     "metadata": {},
     "output_type": "display_data"
    },
    {
     "data": {
      "text/plain": [
       "   \n",
       "       0    1\n",
       "  0   60    5\n",
       "  1 1583   49\n",
       "  2    3    0"
      ]
     },
     "metadata": {},
     "output_type": "display_data"
    }
   ],
   "source": [
    "# Fitting DBScan clustering Model \n",
    "# to training dataset\n",
    "Dbscan_cl <- dbscan(df[,-c(1,35)], eps = 51, MinPts = 3)\n",
    "Dbscan_cl\n",
    "  \n",
    "# Checking cluster\n",
    "#Dbscan_cl$cluster\n",
    "  \n",
    "# Table\n",
    "table(Dbscan_cl$cluster, df$resposta)\n",
    "  \n",
    "# Plotting Cluster\n",
    "#plot(Dbscan_cl, df[,-c(1,35)], main = \"DBScan\")\n",
    "#plot(Dbscan_cl, df[,-c(1,35)], main = \"Petal Width vs Sepal Length\")"
   ]
  },
  {
   "cell_type": "markdown",
   "id": "d2091fd2",
   "metadata": {},
   "source": [
    "Finding the best number of clusters for the kernel k means:"
   ]
  },
  {
   "cell_type": "code",
   "execution_count": 20,
   "id": "15d0cd09",
   "metadata": {},
   "outputs": [
    {
     "name": "stdout",
     "output_type": "stream",
     "text": [
      "Using automatic sigma estimation (sigest) for RBF or laplace kernel \n",
      "Using automatic sigma estimation (sigest) for RBF or laplace kernel \n",
      "Using automatic sigma estimation (sigest) for RBF or laplace kernel \n",
      "Using automatic sigma estimation (sigest) for RBF or laplace kernel \n",
      "Using automatic sigma estimation (sigest) for RBF or laplace kernel \n",
      "Using automatic sigma estimation (sigest) for RBF or laplace kernel \n",
      "Using automatic sigma estimation (sigest) for RBF or laplace kernel \n",
      "Using automatic sigma estimation (sigest) for RBF or laplace kernel \n",
      "Using automatic sigma estimation (sigest) for RBF or laplace kernel \n",
      "Using automatic sigma estimation (sigest) for RBF or laplace kernel \n",
      "Using automatic sigma estimation (sigest) for RBF or laplace kernel \n",
      "Using automatic sigma estimation (sigest) for RBF or laplace kernel \n",
      "Using automatic sigma estimation (sigest) for RBF or laplace kernel \n",
      "Using automatic sigma estimation (sigest) for RBF or laplace kernel \n",
      "Using automatic sigma estimation (sigest) for RBF or laplace kernel \n",
      "Using automatic sigma estimation (sigest) for RBF or laplace kernel \n",
      "Using automatic sigma estimation (sigest) for RBF or laplace kernel \n",
      "Using automatic sigma estimation (sigest) for RBF or laplace kernel \n",
      "Using automatic sigma estimation (sigest) for RBF or laplace kernel \n",
      "[1] 19\n",
      "[1] 13\n",
      "[1] 2\n",
      "[1] 17\n"
     ]
    },
    {
     "data": {
      "image/png": "[encoded data removed]",
      "text/plain": [
       "plot without title"
      ]
     },
     "metadata": {},
     "output_type": "display_data"
    },
    {
     "data": {
      "image/png": "[encoded data removed]",
      "text/plain": [
       "plot without title"
      ]
     },
     "metadata": {},
     "output_type": "display_data"
    },
    {
     "data": {
      "image/png": "[encoded data removed]",
      "text/plain": [
       "plot without title"
      ]
     },
     "metadata": {},
     "output_type": "display_data"
    },
    {
     "data": {
      "image/png": "[encoded data removed]",
      "text/plain": [
       "plot without title"
      ]
     },
     "metadata": {},
     "output_type": "display_data"
    }
   ],
   "source": [
    "ks <- 2:20\n",
    "ASW <- sapply(ks, FUN=function(k) {\n",
    "  data_aux <- kkmeans(as.matrix(df[,-c(1,35)]), kernel = \"rbfdot\", centers=k)[1:1700]\n",
    "  as.numeric(intCriteria(as.matrix(df[,-c(1,35)]),data_aux,c(\"Dunn\",\"C_index\",\"Calinski_Harabasz\",\"Ball_Hall\")))\n",
    "})\n",
    "show(ASW)"
   ]
  },
  {
   "cell_type": "code",
   "execution_count": 21,
   "id": "5bfffb1a",
   "metadata": {},
   "outputs": [
    {
     "name": "stdout",
     "output_type": "stream",
     "text": [
      "Using automatic sigma estimation (sigest) for RBF or laplace kernel \n",
      "Using automatic sigma estimation (sigest) for RBF or laplace kernel \n",
      "Using automatic sigma estimation (sigest) for RBF or laplace kernel \n",
      "Using automatic sigma estimation (sigest) for RBF or laplace kernel \n",
      "Using automatic sigma estimation (sigest) for RBF or laplace kernel \n",
      "Using automatic sigma estimation (sigest) for RBF or laplace kernel \n",
      "Using automatic sigma estimation (sigest) for RBF or laplace kernel \n",
      "Using automatic sigma estimation (sigest) for RBF or laplace kernel \n",
      "Using automatic sigma estimation (sigest) for RBF or laplace kernel \n",
      "Using automatic sigma estimation (sigest) for RBF or laplace kernel \n",
      "Using automatic sigma estimation (sigest) for RBF or laplace kernel \n",
      "Using automatic sigma estimation (sigest) for RBF or laplace kernel \n",
      "Using automatic sigma estimation (sigest) for RBF or laplace kernel \n",
      "Using automatic sigma estimation (sigest) for RBF or laplace kernel \n",
      "Using automatic sigma estimation (sigest) for RBF or laplace kernel \n",
      "Using automatic sigma estimation (sigest) for RBF or laplace kernel \n",
      "Using automatic sigma estimation (sigest) for RBF or laplace kernel \n",
      "Using automatic sigma estimation (sigest) for RBF or laplace kernel \n",
      "Using automatic sigma estimation (sigest) for RBF or laplace kernel \n",
      "[1] 17\n",
      "[1] 18\n",
      "[1] 2\n",
      "[1] 16\n"
     ]
    },
    {
     "data": {
      "image/png": "[encoded data removed]",
      "text/plain": [
       "plot without title"
      ]
     },
     "metadata": {},
     "output_type": "display_data"
    },
    {
     "data": {
      "image/png": "[encoded data removed]",
      "text/plain": [
       "plot without title"
      ]
     },
     "metadata": {},
     "output_type": "display_data"
    },
    {
     "data": {
      "image/png": "[encoded data removed]",
      "text/plain": [
       "plot without title"
      ]
     },
     "metadata": {},
     "output_type": "display_data"
    },
    {
     "data": {
      "image/png": "[encoded data removed]",
      "text/plain": [
       "plot without title"
      ]
     },
     "metadata": {},
     "output_type": "display_data"
    }
   ],
   "source": [
    "ks <- 2:20\n",
    "ASW <- sapply(ks, FUN=function(k) {\n",
    "  data_aux <- kkmeans(as.matrix(df[,-c(1,35)]), kernel = \"laplacedot\", centers=k)[1:1700]\n",
    "  as.numeric(intCriteria(as.matrix(df[,-c(1,35)]),data_aux,c(\"Dunn\",\"C_index\",\"Calinski_Harabasz\",\"Ball_Hall\")))\n",
    "})\n",
    "show(ASW)"
   ]
  },
  {
   "cell_type": "code",
   "execution_count": 11,
   "id": "59feadbb",
   "metadata": {},
   "outputs": [
    {
     "name": "stdout",
     "output_type": "stream",
     "text": [
      "Using automatic sigma estimation (sigest) for RBF or laplace kernel \n"
     ]
    },
    {
     "data": {
      "text/html": [
       "<ol class=list-inline>\n",
       "\t<li>849</li>\n",
       "\t<li>851</li>\n",
       "</ol>\n"
      ],
      "text/latex": [
       "\\begin{enumerate*}\n",
       "\\item 849\n",
       "\\item 851\n",
       "\\end{enumerate*}\n"
      ],
      "text/markdown": [
       "1. 849\n",
       "2. 851\n",
       "\n",
       "\n"
      ],
      "text/plain": [
       "[1] 849 851"
      ]
     },
     "metadata": {},
     "output_type": "display_data"
    },
    {
     "data": {
      "text/plain": [
       "        \n",
       "dfkernel   0   1\n",
       "       1 841   8\n",
       "       2 805  46"
      ]
     },
     "metadata": {},
     "output_type": "display_data"
    }
   ],
   "source": [
    "#Kernel k-means\n",
    "set.seed(32)\n",
    "dfkernel <- kkmeans(as.matrix(df[,-c(1,35)]), kernel = \"rbfdot\", centers=2)\n",
    "#dfkernel\n",
    "#centers(dfkernel)\n",
    "size(dfkernel)\n",
    "#withinss(dfkernel)\n",
    "table(dfkernel, df$resposta)\n",
    "#plot(as.matrix(df[,-c(1,35)]),col=dfkernel)"
   ]
  },
  {
   "cell_type": "code",
   "execution_count": 9,
   "id": "0c5e29cd",
   "metadata": {},
   "outputs": [
    {
     "name": "stdout",
     "output_type": "stream",
     "text": [
      "Using automatic sigma estimation (sigest) for RBF or laplace kernel \n"
     ]
    },
    {
     "data": {
      "text/html": [
       "<ol class=list-inline>\n",
       "\t<li>988</li>\n",
       "\t<li>712</li>\n",
       "</ol>\n"
      ],
      "text/latex": [
       "\\begin{enumerate*}\n",
       "\\item 988\n",
       "\\item 712\n",
       "\\end{enumerate*}\n"
      ],
      "text/markdown": [
       "1. 988\n",
       "2. 712\n",
       "\n",
       "\n"
      ],
      "text/plain": [
       "[1] 988 712"
      ]
     },
     "metadata": {},
     "output_type": "display_data"
    },
    {
     "data": {
      "text/plain": [
       "         \n",
       "dfkernel2   0   1\n",
       "        1 969  19\n",
       "        2 677  35"
      ]
     },
     "metadata": {},
     "output_type": "display_data"
    }
   ],
   "source": [
    "#Kernel k-means\n",
    "set.seed(32)\n",
    "dfkernel2 <- kkmeans(as.matrix(df[,-c(1,35)]), kernel = \"laplacedot\", centers=2)\n",
    "#dfkernel\n",
    "#centers(dfkernel)\n",
    "size(dfkernel2)\n",
    "#withinss(dfkernel)\n",
    "table(dfkernel2, df$resposta)\n",
    "#plot(as.matrix(df[,-c(1,35)]),col=dfkernel)"
   ]
  },
  {
   "cell_type": "markdown",
   "id": "ec0c2cd4",
   "metadata": {},
   "source": [
    "best number of clusters for the spectral clustering methods:"
   ]
  },
  {
   "cell_type": "code",
   "execution_count": 22,
   "id": "227b7c1e",
   "metadata": {},
   "outputs": [
    {
     "name": "stdout",
     "output_type": "stream",
     "text": [
      "[1] 19\n",
      "[1] 18\n",
      "[1] 4\n",
      "[1] 20\n"
     ]
    },
    {
     "data": {
      "image/png": "[encoded data removed]",
      "text/plain": [
       "plot without title"
      ]
     },
     "metadata": {},
     "output_type": "display_data"
    },
    {
     "data": {
      "image/png": "[encoded data removed]",
      "text/plain": [
       "plot without title"
      ]
     },
     "metadata": {},
     "output_type": "display_data"
    },
    {
     "data": {
      "image/png": "[encoded data removed]",
      "text/plain": [
       "plot without title"
      ]
     },
     "metadata": {},
     "output_type": "display_data"
    },
    {
     "data": {
      "image/png": "[encoded data removed]",
      "text/plain": [
       "plot without title"
      ]
     },
     "metadata": {},
     "output_type": "display_data"
    }
   ],
   "source": [
    "ks <- 2:20\n",
    "ASW <- sapply(ks, FUN=function(k) {\n",
    "  data_aux <- specc(as.matrix(scale(df[,-c(1,35)])),centers=k)[1:1700]\n",
    "  as.numeric(intCriteria(as.matrix(df[,-c(1,35)]),data_aux,c(\"Dunn\",\"C_index\",\"Calinski_Harabasz\",\"Ball_Hall\")))\n",
    "})\n",
    "show(ASW)"
   ]
  },
  {
   "cell_type": "code",
   "execution_count": null,
   "id": "f9083d3d",
   "metadata": {},
   "outputs": [],
   "source": [
    "ks <- 2:20\n",
    "ASW <- sapply(ks, FUN=function(k) {\n",
    "  data_aux <- specc(as.data.frame(t(scale(df[,-c(1,35)]))),centers=k)[1:1700]\n",
    "  as.numeric(intCriteria(as.matrix(df[,-c(1,35)]),data_aux,c(\"Dunn\",\"C_index\",\"Calinski_Harabasz\",\"Ball_Hall\")))\n",
    "})\n",
    "show(ASW)"
   ]
  },
  {
   "cell_type": "code",
   "execution_count": null,
   "id": "78f44fab",
   "metadata": {},
   "outputs": [],
   "source": []
  },
  {
   "cell_type": "code",
   "execution_count": 10,
   "id": "9ed7d753",
   "metadata": {},
   "outputs": [
    {
     "data": {
      "text/plain": [
       "          \n",
       "dfspectral   0   1\n",
       "         1 761  34\n",
       "         2 885  20"
      ]
     },
     "metadata": {},
     "output_type": "display_data"
    }
   ],
   "source": [
    "#Spectral clustering\n",
    "dfspectral<-specc(as.matrix(scale(df[,-c(1,35)])),centers=2)\n",
    "#dfspectral\n",
    "#centers(dfspectral)\n",
    "#size(dfspectral)\n",
    "#withinss(dfspectral)\n",
    "table(dfspectral, df$resposta)\n",
    "#plot(as.matrix(df[,-c(1,35)]),col=dfspectral)"
   ]
  },
  {
   "cell_type": "code",
   "execution_count": 19,
   "id": "71a332cd",
   "metadata": {
    "collapsed": true
   },
   "outputs": [
    {
     "data": {
      "text/plain": [
       "$network\n",
       "IGRAPH 18dae32 UN-- 1700 1675 -- \n",
       "+ attr: name (v/c)\n",
       "+ edges from 18dae32 (vertex names):\n",
       " [1] 1647--1670 1643--1669 1614--1700 1647--1613 1606--1688 1605--1673\n",
       " [7] 1605--1645 1595--1697 1594--1602 1579--1697 1579--1673 1578--1673\n",
       "[13] 1643--1578 1578--1597 1576--1669 1566--1604 1551--1623 1576--1522\n",
       "[19] 1510--1700 1510--1670 1510--1620 1605--1510 1510--1511 1508--1660\n",
       "[25] 1508--1597 1566--1508 1502--1518 1496--1623 1460--1509 1460--1479\n",
       "[31] 1456--1479 1454--1536 1446--1509 1551--1347 1347--1418 1314--1485\n",
       "[37] 1314--1336 1551--1306 1276--1341 1244--1602 1239--1596 1551--1182\n",
       "[43] 1180--1546 1180--1544 1244--1180 1143--1168 1136--1518 1111--1674\n",
       "+ ... omitted several edges\n",
       "\n",
       "$cnumber\n",
       "[1] 25\n",
       "\n",
       "$cluster\n",
       "   1    2    3    4    5    6    7    8    9   10   11   12   13   14   15   16 \n",
       "   1    6    6    1    7   16    1    1    6    1    8    1    1   21    6    7 \n",
       "  17   18   19   20   21   22   23   24   25   26   27   28   29   30   31   32 \n",
       "  16   21   23    9    1   10    1    9   16    9    1   21   23   17   23    7 \n",
       "  33   34   35   36   37   38   39   40   41   42   43   44   45   46   47   48 \n",
       "  23    2   23   23   16    7    6   11   12   21    6   21   18    6    7   12 \n",
       "  49   50   51   52   53   54   55   56   57   58   59   60   61   62   63   64 \n",
       "   1    7    1   17   23    9    1    7   23    9   24    1    9   12   23    1 \n",
       "  65   66   67   68   69   70   71   72   73   74   75   76   77   78   79   80 \n",
       "  12   12   23    6   21    2   12   23    7   21   23    1   16   23    9    9 \n",
       "  81   82   83   84   85   86   87   88   89   90   91   92   93   94   95   96 \n",
       "   1    7   17   23    9   21    6   25   23    2    9    1   21   21    1    9 \n",
       "  97   98   99  100  101  102  103  104  105  106  107  108  109  110  111  112 \n",
       "  23   13    9    7   12   21    6    6    6   12   21    2    1    1    1    1 \n",
       " 113  114  115  116  117  118  119  120  121  122  123  124  125  126  127  128 \n",
       "  12   11    7   23    2   12   24    6    1   12   21   12    6   16   23   12 \n",
       " 129  130  131  132  133  134  135  136  137  138  139  140  141  142  143  144 \n",
       "  23   16   12   12    6   21   16    9    2    9    6    7    9   23   17   12 \n",
       " 145  146  147  148  149  150  151  152  153  154  155  156  157  158  159  160 \n",
       "  16   23    7   19   21    7   23   18   23    6    6   23   23   20   12   12 \n",
       " 161  162  163  164  165  166  167  168  169  170  171  172  173  174  175  176 \n",
       "   1   16    7   25    2   23   23    7    7    9    6   21   12   17   18    6 \n",
       " 177  178  179  180  181  182  183  184  185  186  187  188  189  190  191  192 \n",
       "   6    1   23    7   12    1   23   16   23    1    3   23    7    9   23    7 \n",
       " 193  194  195  196  197  198  199  200  201  202  203  204  205  206  207  208 \n",
       "  23   12    1    6    7   21   21    6    1   20    9   21    6    9    7    7 \n",
       " 209  210  211  212  213  214  215  216  217  218  219  220  221  222  223  224 \n",
       "  24   16   11    1    9   11   23    1   23    1    1    6   21   11    7    6 \n",
       " 225  226  227  228  229  230  231  232  233  234  235  236  237  238  239  240 \n",
       "  21    2   11    6   23    6   23   23    1   23    2    1   21   12    1    9 \n",
       " 241  242  243  244  245  246  247  248  249  250  251  252  253  254  255  256 \n",
       "  23    1    1    1    9   21    9    1    6   24    7    7    4    6    6    9 \n",
       " 257  258  259  260  261  262  263  264  265  266  267  268  269  270  271  272 \n",
       "  23    9   23   23   12    6    6   23   23    7    6    6    3   21   25    9 \n",
       " 273  274  275  276  277  278  279  280  281  282  283  284  285  286  287  288 \n",
       "   6    1    1   21    1    7    6    1    9    6   12   23    9    9   23    7 \n",
       " 289  290  291  292  293  294  295  296  297  298  299  300  301  302  303  304 \n",
       "   1   23   21   21    7    7   23   12    7   17    9   23   17    1   23   16 \n",
       " 305  306  307  308  309  310  311  312  313  314  315  316  317  318  319  320 \n",
       "  12    7   21   12    9   24   25    9    1   23   21    7    4   12   12   23 \n",
       " 321  322  323  324  325  326  327  328  329  330  331  332  333  334  335  336 \n",
       "  23    6    6    6    1    6   21   12   23   23   17   23    7   21   21    7 \n",
       " 337  338  339  340  341  342  343  344  345  346  347  348  349  350  351  352 \n",
       "   6   12   21    7    7    1   19    7    8    9    1    1   11    7    7    1 \n",
       " 353  354  355  356  357  358  359  360  361  362  363  364  365  366  367  368 \n",
       "   1   11   21   16   21    9    1   24    7    7    1    6   23   12    7    1 \n",
       " 369  370  371  372  373  374  375  376  377  378  379  380  381  382  383  384 \n",
       "  23    7   21   12    1    1    7    7    6    6    1    7   23    6    1    8 \n",
       " 385  386  387  388  389  390  391  392  393  394  395  396  397  398  399  400 \n",
       "   7    6    3    5    1    6    1    1   21   23    7   23    7    1    8    7 \n",
       " 401  402  403  404  405  406  407  408  409  410  411  412  413  414  415  416 \n",
       "  12    1    1   23    7   12    1   23   21    6    1    1    3   17    7    1 \n",
       " 417  418  419  420  421  422  423  424  425  426  427  428  429  430  431  432 \n",
       "   1   23    1    1    4    1    7    7    1   16    7    9    6    6    9    7 \n",
       " 433  434  435  436  437  438  439  440  441  442  443  444  445  446  447  448 \n",
       "  21    4    1   14    1    9   23    9   23   12   23    1   23   17    6   16 \n",
       " 449  450  451  452  453  454  455  456  457  458  459  460  461  462  463  464 \n",
       "  17   18   17   24    7    7    1   21    7   16   17    6   23    7   23    9 \n",
       " 465  466  467  468  469  470  471  472  473  474  475  476  477  478  479  480 \n",
       "   1   23   11    3    6    9   11   23    1    5    7   23    7   23   17   16 \n",
       " 481  482  483  484  485  486  487  488  489  490  491  492  493  494  495  496 \n",
       "   7   21   23    1   12   11    7    1   16   12   23   12   16    1    7   12 \n",
       " 497  498  499  500  501  502  503  504  505  506  507  508  509  510  511  512 \n",
       "  21    1    1   16    7    9    7    7    6   17    7    6    1   23   21    7 \n",
       " 513  514  515  516  517  518  519  520  521  522  523  524  525  526  527  528 \n",
       "   9   17    4    1    4    7    7   11   11    7    5    1    1   23    1   21 \n",
       " 529  530  531  532  533  534  535  536  537  538  539  540  541  542  543  544 \n",
       "   5    6    7   12   21   21   16    9    1   23    7    7   12   23   17   23 \n",
       " 545  546  547  548  549  550  551  552  553  554  555  556  557  558  559  560 \n",
       "   6   23   23    1    9    7   16   23    1    7   23    9    1    6   23   16 \n",
       " 561  562  563  564  565  566  567  568  569  570  571  572  573  574  575  576 \n",
       "   7    6    2    1    1   23   18   16   16    9   20   16   13   17    5   16 \n",
       " 577  578  579  580  581  582  583  584  585  586  587  588  589  590  591  592 \n",
       "   9   17   11   16    9   12   23   12   12    2   23   12   12    7   23    3 \n",
       " 593  594  595  596  597  598  599  600  601  602  603  604  605  606  607  608 \n",
       "   1   15   12   17    9   12    7   20    1    7   12    7   20   23   16    5 \n",
       " 609  610  611  612  613  614  615  616  617  618  619  620  621  622  623  624 \n",
       "   7   23    6    7    9   23    1   17   16   12    7   17   12   23    1   17 \n",
       " 625  626  627  628  629  630  631  632  633  634  635  636  637  638  639  640 \n",
       "  18    6   17    7   12   16   16   24   12    6    1   18   16    9   16   12 \n",
       " 641  642  643  644  645  646  647  648  649  650  651  652  653  654  655  656 \n",
       "  17   17   13   21    1    1    1   16   12    7    6    1    9   16   20    1 \n",
       " 657  658  659  660  661  662  663  664  665  666  667  668  669  670  671  672 \n",
       "  12   12    6    9   17   21   21   12    7   16   16   11   21   17   21    1 \n",
       " 673  674  675  676  677  678  679  680  681  682  683  684  685  686  687  688 \n",
       "   9    7   16   23   23   21    7    7    8   23    6   18    9   16    8   21 \n",
       " 689  690  691  692  693  694  695  696  697  698  699  700  701  702  703  704 \n",
       "  21   21   23   12   16    7   20   21    6   17    7    6   12   16   17   23 \n",
       " 705  706  707  708  709  710  711  712  713  714  715  716  717  718  719  720 \n",
       "  21    7   23    9   17   17    3   12    2    1   23   17    1   16   21    1 \n",
       " 721  722  723  724  725  726  727  728  729  730  731  732  733  734  735  736 \n",
       "  16    6    9   23   21   24    6   16    4   21    8    9    7    9   17    1 \n",
       " 737  738  739  740  741  742  743  744  745  746  747  748  749  750  751  752 \n",
       "  23   23   23    1   17   20   20   24    7    7    1   16    1   23   12   17 \n",
       " 753  754  755  756  757  758  759  760  761  762  763  764  765  766  767  768 \n",
       "   7    4   17   12   23    6   12    6    9   23   11    7    1    7    6    6 \n",
       " 769  770  771  772  773  774  775  776  777  778  779  780  781  782  783  784 \n",
       "   1   24   23    7   18   16   23   12   21   11    7   16    1   16    7   16 \n",
       " 785  786  787  788  789  790  791  792  793  794  795  796  797  798  799  800 \n",
       "  16   23    7    1   24    1   16   20   23   12   12   12    7   22   16   12 \n",
       " 801  802  803  804  805  806  807  808  809  810  811  812  813  814  815  816 \n",
       "   7    6   21    9    1    7    1   10   24    1   23   21   20   12    6   21 \n",
       " 817  818  819  820  821  822  823  824  825  826  827  828  829  830  831  832 \n",
       "   1   12   12    1    8   23   23   17    6    5   22   12   10    7   17   17 \n",
       " 833  834  835  836  837  838  839  840  841  842  843  844  845  846  847  848 \n",
       "   9   21   23    7   23   23    7    7    9   23   23    7   16   23    1    9 \n",
       " 849  850  851  852  853  854  855  856  857  858  859  860  861  862  863  864 \n",
       "  11   16    1    9   21   23    9    9    8    7    6   13   21    9   17    7 \n",
       " 865  866  867  868  869  870  871  872  873  874  875  876  877  878  879  880 \n",
       "   6   17    8    9   23    2    7   23   12   12   20   23    9   12   17   17 \n",
       " 881  882  883  884  885  886  887  888  889  890  891  892  893  894  895  896 \n",
       "  21    7   21   17    7   23   23   12    7   16   23    6    7    7   11   16 \n",
       " 897  898  899  900  901  902  903  904  905  906  907  908  909  910  911  912 \n",
       "   6   17   21   21   16    6    1   16    1   23    2   12   17    7   23   21 \n",
       " 913  914  915  916  917  918  919  920  921  922  923  924  925  926  927  928 \n",
       "  21    1    1    7   21   21    7   13   20    7   21   22    1   23   23   21 \n",
       " 929  930  931  932  933  934  935  936  937  938  939  940  941  942  943  944 \n",
       "  17   12   12    2   17   16   23   23   17    1   16   18   23   12    1   13 \n",
       " 945  946  947  948  949  950  951  952  953  954  955  956  957  958  959  960 \n",
       "   6   23   17   18    9    7   16    1    9    2    7    1   23    1    4    9 \n",
       " 961  962  963  964  965  966  967  968  969  970  971  972  973  974  975  976 \n",
       "  23    6    7   12   23    9    1   21    1   23   23    1   23    7   21    7 \n",
       " 977  978  979  980  981  982  983  984  985  986  987  988  989  990  991  992 \n",
       "  17   23    9   16    1   23    7    6    7    8    1    7   16    9    7    9 \n",
       " 993  994  995  996  997  998  999 1000 1001 1002 1003 1004 1005 1006 1007 1008 \n",
       "  18   23    6   16    7    7   17    9   23   23   21    6    1    1   21    7 \n",
       "1009 1010 1011 1012 1013 1014 1015 1016 1017 1018 1019 1020 1021 1022 1023 1024 \n",
       "  12   11    9    5    9   12   19   23    9    4    1    1    6   21    7   23 \n",
       "1025 1026 1027 1028 1029 1030 1031 1032 1033 1034 1035 1036 1037 1038 1039 1040 \n",
       "   6   23   12   16    7    7   12    1   23    6   21   23    1   23    7    9 \n",
       "1041 1042 1043 1044 1045 1046 1047 1048 1049 1050 1051 1052 1053 1054 1055 1056 \n",
       "  21    6    6   11   12   16    2    7   12    9    9   12    7   21    1   23 \n",
       "1057 1058 1059 1060 1061 1062 1063 1064 1065 1066 1067 1068 1069 1070 1071 1072 \n",
       "   1    6   21    7    9    7   23    7   12    9    1    6    1   13    6    9 \n",
       "1073 1074 1075 1076 1077 1078 1079 1080 1081 1082 1083 1084 1085 1086 1087 1088 \n",
       "  12    6   12    7   16   17   23    9    1   16   21    9    7    7   12   24 \n",
       "1089 1090 1091 1092 1093 1094 1095 1096 1097 1098 1099 1100 1101 1102 1103 1104 \n",
       "   9    1    1   21   16    7    6    9    7    1   20   17    6   12   16    1 \n",
       "1105 1106 1107 1108 1109 1110 1111 1112 1113 1114 1115 1116 1117 1118 1119 1120 \n",
       "  12   11    7    1    7   17    1   12   23   23   17    9    3   16    6   13 \n",
       "1121 1122 1123 1124 1125 1126 1127 1128 1129 1130 1131 1132 1133 1134 1135 1136 \n",
       "   7   12    6   16    7    7   19   19   23    1   23   23    1    9   16    1 \n",
       "1137 1138 1139 1140 1141 1142 1143 1144 1145 1146 1147 1148 1149 1150 1151 1152 \n",
       "  16   24   21    9    6    9    1   23   16    9    7   16    1    6   23   10 \n",
       "1153 1154 1155 1156 1157 1158 1159 1160 1161 1162 1163 1164 1165 1166 1167 1168 \n",
       "  16   16    6   23   20    6    7    9    1   17    7   12    3    7   21    1 \n",
       "1169 1170 1171 1172 1173 1174 1175 1176 1177 1178 1179 1180 1181 1182 1183 1184 \n",
       "  12    6   23   21   12   14   18   21   15   23   17    1   23    1    1   17 \n",
       "1185 1186 1187 1188 1189 1190 1191 1192 1193 1194 1195 1196 1197 1198 1199 1200 \n",
       "   7    7    6   16   23    6   17    6   17   21    7    7    1    7    1    6 \n",
       "1201 1202 1203 1204 1205 1206 1207 1208 1209 1210 1211 1212 1213 1214 1215 1216 \n",
       "   6    8   16    7   12    6    7    7    1   23   17    6   17    7    6   18 \n",
       "1217 1218 1219 1220 1221 1222 1223 1224 1225 1226 1227 1228 1229 1230 1231 1232 \n",
       "  21   14    6   23   23    1   12   18   16    9   12    6    7    8    7    6 \n",
       "1233 1234 1235 1236 1237 1238 1239 1240 1241 1242 1243 1244 1245 1246 1247 1248 \n",
       "   6   23    6    7   12   23    1    7    6    7   21    1    1    1   12   17 \n",
       "1249 1250 1251 1252 1253 1254 1255 1256 1257 1258 1259 1260 1261 1262 1263 1264 \n",
       "  16    7    1   17   19    7    7   12    1    9   15    6   16    1   17   23 \n",
       "1265 1266 1267 1268 1269 1270 1271 1272 1273 1274 1275 1276 1277 1278 1279 1280 \n",
       "  18   16    6   17    7   17   12    7   16    7    9    1   17    2    1   23 \n",
       "1281 1282 1283 1284 1285 1286 1287 1288 1289 1290 1291 1292 1293 1294 1295 1296 \n",
       "  23    9   16    6    4    9    6   23    3    7   17   23   23    6    7   23 \n",
       "1297 1298 1299 1300 1301 1302 1303 1304 1305 1306 1307 1308 1309 1310 1311 1312 \n",
       "  21   17    9   11    6    6    7   23    6    1   23    1   12    9   17    7 \n",
       "1313 1314 1315 1316 1317 1318 1319 1320 1321 1322 1323 1324 1325 1326 1327 1328 \n",
       "   7    1    2    7   12   21   23   17   16   21   16   23    6   12   24    7 \n",
       "1329 1330 1331 1332 1333 1334 1335 1336 1337 1338 1339 1340 1341 1342 1343 1344 \n",
       "   6    4    7   16   12   21    8    1    9   23    9   17    1    6    6    9 \n",
       "1345 1346 1347 1348 1349 1350 1351 1352 1353 1354 1355 1356 1357 1358 1359 1360 \n",
       "   7    4    1   18   17   24    4    9    9    6    1    7   17   17    9    7 \n",
       "1361 1362 1363 1364 1365 1366 1367 1368 1369 1370 1371 1372 1373 1374 1375 1376 \n",
       "  23    2    6   18   12   17   16   12   17   12   20   16    8   16   21   18 \n",
       "1377 1378 1379 1380 1381 1382 1383 1384 1385 1386 1387 1388 1389 1390 1391 1392 \n",
       "  21    9    1    8    3    6    6   19    9   24   23   16   17   24   12   17 \n",
       "1393 1394 1395 1396 1397 1398 1399 1400 1401 1402 1403 1404 1405 1406 1407 1408 \n",
       "   7   23   23   23   21    1   12   17    1    1   11    1   12    1    3    9 \n",
       "1409 1410 1411 1412 1413 1414 1415 1416 1417 1418 1419 1420 1421 1422 1423 1424 \n",
       "   9   17    9   19    7    7   16   23   12    1   25    9   16    7   16   21 \n",
       "1425 1426 1427 1428 1429 1430 1431 1432 1433 1434 1435 1436 1437 1438 1439 1440 \n",
       "   9    4    1   21   17    7   23   15   21    5    1    6    7   21   20   16 \n",
       "1441 1442 1443 1444 1445 1446 1447 1448 1449 1450 1451 1452 1453 1454 1455 1456 \n",
       "  23    7    9   23   10    1    6    6    7   18   17   23   18    1    7    1 \n",
       "1457 1458 1459 1460 1461 1462 1463 1464 1465 1466 1467 1468 1469 1470 1471 1472 \n",
       "   1    8   23    1   12    6    7    7    9    9   21    7    1    7    1    7 \n",
       "1473 1474 1475 1476 1477 1478 1479 1480 1481 1482 1483 1484 1485 1486 1487 1488 \n",
       "  12    6   16    7   16   21    1   18    1    9   12    6    1    1   10   17 \n",
       "1489 1490 1491 1492 1493 1494 1495 1496 1497 1498 1499 1500 1501 1502 1503 1504 \n",
       "  15    7    7   17   23   17   12    1   23    4    9    6    9    1    6   23 \n",
       "1505 1506 1507 1508 1509 1510 1511 1512 1513 1514 1515 1516 1517 1518 1519 1520 \n",
       "  23    7   11    1    1    1    1    1    3   21    7   11   21    1   23    9 \n",
       "1521 1522 1523 1524 1525 1526 1527 1528 1529 1530 1531 1532 1533 1534 1535 1536 \n",
       "   1    1   24    7   16    7    1    7    4    6    7    1    4    7    1    1 \n",
       "1537 1538 1539 1540 1541 1542 1543 1544 1545 1546 1547 1548 1549 1550 1551 1552 \n",
       "   7   23    5   21    7    1   23    1    6    1    1   16   17    1    1    1 \n",
       "1553 1554 1555 1556 1557 1558 1559 1560 1561 1562 1563 1564 1565 1566 1567 1568 \n",
       "   6   10    7    9    9   17   12    7    9    7    7   12    7    1   23   17 \n",
       "1569 1570 1571 1572 1573 1574 1575 1576 1577 1578 1579 1580 1581 1582 1583 1584 \n",
       "   6    1    6    7    6    9   12    1   21    1    1   23    7    6    5    1 \n",
       "1585 1586 1587 1588 1589 1590 1591 1592 1593 1594 1595 1596 1597 1598 1599 1600 \n",
       "  23   17    4   23   16    6   10    7    9    1    1    1    1    9   23    1 \n",
       "1601 1602 1603 1604 1605 1606 1607 1608 1609 1610 1611 1612 1613 1614 1615 1616 \n",
       "   1    1    6    1    1    1   13   10    9   13    6    7    1    1   23    7 \n",
       "1617 1618 1619 1620 1621 1622 1623 1624 1625 1626 1627 1628 1629 1630 1631 1632 \n",
       "   1    9    9    1   21    9    1   16    8   10    7   18   12    9   12    9 \n",
       "1633 1634 1635 1636 1637 1638 1639 1640 1641 1642 1643 1644 1645 1646 1647 1648 \n",
       "   7   17   17    6    1    4   17    7   21    7    1    7    1   12    1   23 \n",
       "1649 1650 1651 1652 1653 1654 1655 1656 1657 1658 1659 1660 1661 1662 1663 1664 \n",
       "   7    3   12    6    6   16    8    7    1    7    7    1    8   17    7   12 \n",
       "1665 1666 1667 1668 1669 1670 1671 1672 1673 1674 1675 1676 1677 1678 1679 1680 \n",
       "   8    1    6    9    1    1    7   12    1    1   17   17    6    6   21   17 \n",
       "1681 1682 1683 1684 1685 1686 1687 1688 1689 1690 1691 1692 1693 1694 1695 1696 \n",
       "  17    1    1   17   16    1   16    1   23   23    1    7    9   12    6   17 \n",
       "1697 1698 1699 1700 \n",
       "   1    6   17    1 \n",
       "\n",
       "$partition\n",
       "     object cluster\n",
       "1         1       1\n",
       "2         4       1\n",
       "3         7       1\n",
       "4         8       1\n",
       "5        10       1\n",
       "6        12       1\n",
       "7        13       1\n",
       "8        21       1\n",
       "9        23       1\n",
       "10       27       1\n",
       "11       49       1\n",
       "12       51       1\n",
       "13       55       1\n",
       "14       60       1\n",
       "15       64       1\n",
       "16       76       1\n",
       "17       81       1\n",
       "18       92       1\n",
       "19       95       1\n",
       "20      109       1\n",
       "21      110       1\n",
       "22      111       1\n",
       "23      112       1\n",
       "24      121       1\n",
       "25      161       1\n",
       "26      178       1\n",
       "27      182       1\n",
       "28      186       1\n",
       "29      195       1\n",
       "30      201       1\n",
       "31      212       1\n",
       "32      216       1\n",
       "33      218       1\n",
       "34      219       1\n",
       "35      233       1\n",
       "36      236       1\n",
       "37      239       1\n",
       "38      242       1\n",
       "39      243       1\n",
       "40      244       1\n",
       "41      248       1\n",
       "42      274       1\n",
       "43      275       1\n",
       "44      277       1\n",
       "45      280       1\n",
       "46      289       1\n",
       "47      302       1\n",
       "48      313       1\n",
       "49      325       1\n",
       "50      342       1\n",
       "51      347       1\n",
       "52      348       1\n",
       "53      352       1\n",
       "54      353       1\n",
       "55      359       1\n",
       "56      363       1\n",
       "57      368       1\n",
       "58      373       1\n",
       "59      374       1\n",
       "60      379       1\n",
       "61      383       1\n",
       "62      389       1\n",
       "63      391       1\n",
       "64      392       1\n",
       "65      398       1\n",
       "66      402       1\n",
       "67      403       1\n",
       "68      407       1\n",
       "69      411       1\n",
       "70      412       1\n",
       "71      416       1\n",
       "72      417       1\n",
       "73      419       1\n",
       "74      420       1\n",
       "75      422       1\n",
       "76      425       1\n",
       "77      435       1\n",
       "78      437       1\n",
       "79      444       1\n",
       "80      455       1\n",
       "81      465       1\n",
       "82      473       1\n",
       "83      484       1\n",
       "84      488       1\n",
       "85      494       1\n",
       "86      498       1\n",
       "87      499       1\n",
       "88      509       1\n",
       "89      516       1\n",
       "90      524       1\n",
       "91      525       1\n",
       "92      527       1\n",
       "93      537       1\n",
       "94      548       1\n",
       "95      553       1\n",
       "96      557       1\n",
       "97      564       1\n",
       "98      565       1\n",
       "99      593       1\n",
       "100     601       1\n",
       "101     615       1\n",
       "102     623       1\n",
       "103     635       1\n",
       "104     645       1\n",
       "105     646       1\n",
       "106     647       1\n",
       "107     652       1\n",
       "108     656       1\n",
       "109     672       1\n",
       "110     714       1\n",
       "111     717       1\n",
       "112     720       1\n",
       "113     736       1\n",
       "114     740       1\n",
       "115     747       1\n",
       "116     749       1\n",
       "117     765       1\n",
       "118     769       1\n",
       "119     781       1\n",
       "120     788       1\n",
       "121     790       1\n",
       "122     805       1\n",
       "123     807       1\n",
       "124     810       1\n",
       "125     817       1\n",
       "126     820       1\n",
       "127     847       1\n",
       "128     851       1\n",
       "129     903       1\n",
       "130     905       1\n",
       "131     914       1\n",
       "132     915       1\n",
       "133     925       1\n",
       "134     938       1\n",
       "135     943       1\n",
       "136     952       1\n",
       "137     956       1\n",
       "138     958       1\n",
       "139     967       1\n",
       "140     969       1\n",
       "141     972       1\n",
       "142     981       1\n",
       "143     987       1\n",
       "144    1005       1\n",
       "145    1006       1\n",
       "146    1019       1\n",
       "147    1020       1\n",
       "148    1032       1\n",
       "149    1037       1\n",
       "150    1055       1\n",
       "151    1057       1\n",
       "152    1067       1\n",
       "153    1069       1\n",
       "154    1081       1\n",
       "155    1090       1\n",
       "156    1091       1\n",
       "157    1098       1\n",
       "158    1104       1\n",
       "159    1108       1\n",
       "160    1111       1\n",
       "161    1130       1\n",
       "162    1133       1\n",
       "163    1136       1\n",
       "164    1143       1\n",
       "165    1149       1\n",
       "166    1161       1\n",
       "167    1168       1\n",
       "168    1180       1\n",
       "169    1182       1\n",
       "170    1183       1\n",
       "171    1197       1\n",
       "172    1199       1\n",
       "173    1209       1\n",
       "174    1222       1\n",
       "175    1239       1\n",
       "176    1244       1\n",
       "177    1245       1\n",
       "178    1246       1\n",
       "179    1251       1\n",
       "180    1257       1\n",
       "181    1262       1\n",
       "182    1276       1\n",
       "183    1279       1\n",
       "184    1306       1\n",
       "185    1308       1\n",
       "186    1314       1\n",
       "187    1336       1\n",
       "188    1341       1\n",
       "189    1347       1\n",
       "190    1355       1\n",
       "191    1379       1\n",
       "192    1398       1\n",
       "193    1401       1\n",
       "194    1402       1\n",
       "195    1404       1\n",
       "196    1406       1\n",
       "197    1418       1\n",
       "198    1427       1\n",
       "199    1435       1\n",
       "200    1446       1\n",
       "201    1454       1\n",
       "202    1456       1\n",
       "203    1457       1\n",
       "204    1460       1\n",
       "205    1469       1\n",
       "206    1471       1\n",
       "207    1479       1\n",
       "208    1481       1\n",
       "209    1485       1\n",
       "210    1486       1\n",
       "211    1496       1\n",
       "212    1502       1\n",
       "213    1508       1\n",
       "214    1509       1\n",
       "215    1510       1\n",
       "216    1511       1\n",
       "217    1512       1\n",
       "218    1518       1\n",
       "219    1521       1\n",
       "220    1522       1\n",
       "221    1527       1\n",
       "222    1532       1\n",
       "223    1535       1\n",
       "224    1536       1\n",
       "225    1542       1\n",
       "226    1544       1\n",
       "227    1546       1\n",
       "228    1547       1\n",
       "229    1550       1\n",
       "230    1551       1\n",
       "231    1552       1\n",
       "232    1566       1\n",
       "233    1570       1\n",
       "234    1576       1\n",
       "235    1578       1\n",
       "236    1579       1\n",
       "237    1584       1\n",
       "238    1594       1\n",
       "239    1595       1\n",
       "240    1596       1\n",
       "241    1597       1\n",
       "242    1600       1\n",
       "243    1601       1\n",
       "244    1602       1\n",
       "245    1604       1\n",
       "246    1605       1\n",
       "247    1606       1\n",
       "248    1613       1\n",
       "249    1614       1\n",
       "250    1617       1\n",
       "251    1620       1\n",
       "252    1623       1\n",
       "253    1637       1\n",
       "254    1643       1\n",
       "255    1645       1\n",
       "256    1647       1\n",
       "257    1657       1\n",
       "258    1660       1\n",
       "259    1666       1\n",
       "260    1669       1\n",
       "261    1670       1\n",
       "262    1673       1\n",
       "263    1674       1\n",
       "264    1682       1\n",
       "265    1683       1\n",
       "266    1686       1\n",
       "267    1688       1\n",
       "268    1691       1\n",
       "269    1697       1\n",
       "270    1700       1\n",
       "271      34       2\n",
       "272      70       2\n",
       "273      90       2\n",
       "274     108       2\n",
       "275     117       2\n",
       "276     137       2\n",
       "277     165       2\n",
       "278     226       2\n",
       "279     235       2\n",
       "280     563       2\n",
       "281     586       2\n",
       "282     713       2\n",
       "283     870       2\n",
       "284     907       2\n",
       "285     932       2\n",
       "286     954       2\n",
       "287    1047       2\n",
       "288    1278       2\n",
       "289    1315       2\n",
       "290    1362       2\n",
       "291     187       3\n",
       "292     269       3\n",
       "293     387       3\n",
       "294     413       3\n",
       "295     468       3\n",
       "296     592       3\n",
       "297     711       3\n",
       "298    1117       3\n",
       "299    1165       3\n",
       "300    1289       3\n",
       "301    1381       3\n",
       "302    1407       3\n",
       "303    1513       3\n",
       "304    1650       3\n",
       "305     253       4\n",
       "306     317       4\n",
       "307     421       4\n",
       "308     434       4\n",
       "309     515       4\n",
       "310     517       4\n",
       "311     729       4\n",
       "312     754       4\n",
       "313     959       4\n",
       "314    1018       4\n",
       "315    1285       4\n",
       "316    1330       4\n",
       "317    1346       4\n",
       "318    1351       4\n",
       "319    1426       4\n",
       "320    1498       4\n",
       "321    1529       4\n",
       "322    1533       4\n",
       "323    1587       4\n",
       "324    1638       4\n",
       "325     388       5\n",
       "326     474       5\n",
       "327     523       5\n",
       "328     529       5\n",
       "329     575       5\n",
       "330     608       5\n",
       "331     826       5\n",
       "332    1012       5\n",
       "333    1434       5\n",
       "334    1539       5\n",
       "335    1583       5\n",
       "336       2       6\n",
       "337       3       6\n",
       "338       9       6\n",
       "339      15       6\n",
       "340      39       6\n",
       "341      43       6\n",
       "342      46       6\n",
       "343      68       6\n",
       "344      87       6\n",
       "345     103       6\n",
       "346     104       6\n",
       "347     105       6\n",
       "348     120       6\n",
       "349     125       6\n",
       "350     133       6\n",
       "351     139       6\n",
       "352     154       6\n",
       "353     155       6\n",
       "354     171       6\n",
       "355     176       6\n",
       "356     177       6\n",
       "357     196       6\n",
       "358     200       6\n",
       "359     205       6\n",
       "360     220       6\n",
       "361     224       6\n",
       "362     228       6\n",
       "363     230       6\n",
       "364     249       6\n",
       "365     254       6\n",
       "366     255       6\n",
       "367     262       6\n",
       "368     263       6\n",
       "369     267       6\n",
       "370     268       6\n",
       "371     273       6\n",
       "372     279       6\n",
       "373     282       6\n",
       "374     322       6\n",
       "375     323       6\n",
       "376     324       6\n",
       "377     326       6\n",
       "378     337       6\n",
       "379     364       6\n",
       "380     377       6\n",
       "381     378       6\n",
       "382     382       6\n",
       "383     386       6\n",
       "384     390       6\n",
       "385     410       6\n",
       "386     429       6\n",
       "387     430       6\n",
       "388     447       6\n",
       "389     460       6\n",
       "390     469       6\n",
       "391     505       6\n",
       "392     508       6\n",
       "393     530       6\n",
       "394     545       6\n",
       "395     558       6\n",
       "396     562       6\n",
       "397     611       6\n",
       "398     626       6\n",
       "399     634       6\n",
       "400     651       6\n",
       "401     659       6\n",
       "402     683       6\n",
       "403     697       6\n",
       "404     700       6\n",
       "405     722       6\n",
       "406     727       6\n",
       "407     758       6\n",
       "408     760       6\n",
       "409     767       6\n",
       "410     768       6\n",
       "411     802       6\n",
       "412     815       6\n",
       "413     825       6\n",
       "414     859       6\n",
       "415     865       6\n",
       "416     892       6\n",
       "417     897       6\n",
       "418     902       6\n",
       "419     945       6\n",
       "420     962       6\n",
       "421     984       6\n",
       "422     995       6\n",
       "423    1004       6\n",
       "424    1021       6\n",
       "425    1025       6\n",
       "426    1034       6\n",
       "427    1042       6\n",
       "428    1043       6\n",
       "429    1058       6\n",
       "430    1068       6\n",
       "431    1071       6\n",
       "432    1074       6\n",
       "433    1095       6\n",
       "434    1101       6\n",
       "435    1119       6\n",
       "436    1123       6\n",
       "437    1141       6\n",
       "438    1150       6\n",
       "439    1155       6\n",
       "440    1158       6\n",
       "441    1170       6\n",
       "442    1187       6\n",
       "443    1190       6\n",
       "444    1192       6\n",
       "445    1200       6\n",
       "446    1201       6\n",
       "447    1206       6\n",
       "448    1212       6\n",
       "449    1215       6\n",
       "450    1219       6\n",
       "451    1228       6\n",
       "452    1232       6\n",
       "453    1233       6\n",
       "454    1235       6\n",
       "455    1241       6\n",
       "456    1260       6\n",
       "457    1267       6\n",
       "458    1284       6\n",
       "459    1287       6\n",
       "460    1294       6\n",
       "461    1301       6\n",
       "462    1302       6\n",
       "463    1305       6\n",
       "464    1325       6\n",
       "465    1329       6\n",
       "466    1342       6\n",
       "467    1343       6\n",
       "468    1354       6\n",
       "469    1363       6\n",
       "470    1382       6\n",
       "471    1383       6\n",
       "472    1436       6\n",
       "473    1447       6\n",
       "474    1448       6\n",
       "475    1462       6\n",
       "476    1474       6\n",
       "477    1484       6\n",
       "478    1500       6\n",
       "479    1503       6\n",
       "480    1530       6\n",
       "481    1545       6\n",
       "482    1553       6\n",
       "483    1569       6\n",
       "484    1571       6\n",
       "485    1573       6\n",
       "486    1582       6\n",
       "487    1590       6\n",
       "488    1603       6\n",
       "489    1611       6\n",
       "490    1636       6\n",
       "491    1652       6\n",
       "492    1653       6\n",
       "493    1667       6\n",
       "494    1677       6\n",
       "495    1678       6\n",
       "496    1695       6\n",
       "497    1698       6\n",
       "498       5       7\n",
       "499      16       7\n",
       "500      32       7\n",
       "501      38       7\n",
       "502      47       7\n",
       "503      50       7\n",
       "504      56       7\n",
       "505      73       7\n",
       "506      82       7\n",
       "507     100       7\n",
       "508     115       7\n",
       "509     140       7\n",
       "510     147       7\n",
       "511     150       7\n",
       "512     163       7\n",
       "513     168       7\n",
       "514     169       7\n",
       "515     180       7\n",
       "516     189       7\n",
       "517     192       7\n",
       "518     197       7\n",
       "519     207       7\n",
       "520     208       7\n",
       "521     223       7\n",
       "522     251       7\n",
       "523     252       7\n",
       "524     266       7\n",
       "525     278       7\n",
       "526     288       7\n",
       "527     293       7\n",
       "528     294       7\n",
       "529     297       7\n",
       "530     306       7\n",
       "531     316       7\n",
       "532     333       7\n",
       "533     336       7\n",
       "534     340       7\n",
       "535     341       7\n",
       "536     344       7\n",
       "537     350       7\n",
       "538     351       7\n",
       "539     361       7\n",
       "540     362       7\n",
       "541     367       7\n",
       "542     370       7\n",
       "543     375       7\n",
       "544     376       7\n",
       "545     380       7\n",
       "546     385       7\n",
       "547     395       7\n",
       "548     397       7\n",
       "549     400       7\n",
       "550     405       7\n",
       "551     415       7\n",
       "552     423       7\n",
       "553     424       7\n",
       "554     427       7\n",
       "555     432       7\n",
       "556     453       7\n",
       "557     454       7\n",
       "558     457       7\n",
       "559     462       7\n",
       "560     475       7\n",
       "561     477       7\n",
       "562     481       7\n",
       "563     487       7\n",
       "564     495       7\n",
       "565     501       7\n",
       "566     503       7\n",
       "567     504       7\n",
       "568     507       7\n",
       "569     512       7\n",
       "570     518       7\n",
       "571     519       7\n",
       "572     522       7\n",
       "573     531       7\n",
       "574     539       7\n",
       "575     540       7\n",
       "576     550       7\n",
       "577     554       7\n",
       "578     561       7\n",
       "579     590       7\n",
       "580     599       7\n",
       "581     602       7\n",
       "582     604       7\n",
       "583     609       7\n",
       "584     612       7\n",
       "585     619       7\n",
       "586     628       7\n",
       "587     650       7\n",
       "588     665       7\n",
       "589     674       7\n",
       "590     679       7\n",
       "591     680       7\n",
       "592     694       7\n",
       "593     699       7\n",
       "594     706       7\n",
       "595     733       7\n",
       "596     745       7\n",
       "597     746       7\n",
       "598     753       7\n",
       "599     764       7\n",
       "600     766       7\n",
       "601     772       7\n",
       "602     779       7\n",
       "603     783       7\n",
       "604     787       7\n",
       "605     797       7\n",
       "606     801       7\n",
       "607     806       7\n",
       "608     830       7\n",
       "609     836       7\n",
       "610     839       7\n",
       "611     840       7\n",
       "612     844       7\n",
       "613     858       7\n",
       "614     864       7\n",
       "615     871       7\n",
       "616     882       7\n",
       "617     885       7\n",
       "618     889       7\n",
       "619     893       7\n",
       "620     894       7\n",
       "621     910       7\n",
       "622     916       7\n",
       "623     919       7\n",
       "624     922       7\n",
       "625     950       7\n",
       "626     955       7\n",
       "627     963       7\n",
       "628     974       7\n",
       "629     976       7\n",
       "630     983       7\n",
       "631     985       7\n",
       "632     988       7\n",
       "633     991       7\n",
       "634     997       7\n",
       "635     998       7\n",
       "636    1008       7\n",
       "637    1023       7\n",
       "638    1029       7\n",
       "639    1030       7\n",
       "640    1039       7\n",
       "641    1048       7\n",
       "642    1053       7\n",
       "643    1060       7\n",
       "644    1062       7\n",
       "645    1064       7\n",
       "646    1076       7\n",
       "647    1085       7\n",
       "648    1086       7\n",
       "649    1094       7\n",
       "650    1097       7\n",
       "651    1107       7\n",
       "652    1109       7\n",
       "653    1121       7\n",
       "654    1125       7\n",
       "655    1126       7\n",
       "656    1147       7\n",
       "657    1159       7\n",
       "658    1163       7\n",
       "659    1166       7\n",
       "660    1185       7\n",
       "661    1186       7\n",
       "662    1195       7\n",
       "663    1196       7\n",
       "664    1198       7\n",
       "665    1204       7\n",
       "666    1207       7\n",
       "667    1208       7\n",
       "668    1214       7\n",
       "669    1229       7\n",
       "670    1231       7\n",
       "671    1236       7\n",
       "672    1240       7\n",
       "673    1242       7\n",
       "674    1250       7\n",
       "675    1254       7\n",
       "676    1255       7\n",
       "677    1269       7\n",
       "678    1272       7\n",
       "679    1274       7\n",
       "680    1290       7\n",
       "681    1295       7\n",
       "682    1303       7\n",
       "683    1312       7\n",
       "684    1313       7\n",
       "685    1316       7\n",
       "686    1328       7\n",
       "687    1331       7\n",
       "688    1345       7\n",
       "689    1356       7\n",
       "690    1360       7\n",
       "691    1393       7\n",
       "692    1413       7\n",
       "693    1414       7\n",
       "694    1422       7\n",
       "695    1430       7\n",
       "696    1437       7\n",
       "697    1442       7\n",
       "698    1449       7\n",
       "699    1455       7\n",
       "700    1463       7\n",
       "701    1464       7\n",
       "702    1468       7\n",
       "703    1470       7\n",
       "704    1472       7\n",
       "705    1476       7\n",
       "706    1490       7\n",
       "707    1491       7\n",
       "708    1506       7\n",
       "709    1515       7\n",
       "710    1524       7\n",
       "711    1526       7\n",
       "712    1528       7\n",
       "713    1531       7\n",
       "714    1534       7\n",
       "715    1537       7\n",
       "716    1541       7\n",
       "717    1555       7\n",
       "718    1560       7\n",
       "719    1562       7\n",
       "720    1563       7\n",
       "721    1565       7\n",
       "722    1572       7\n",
       "723    1581       7\n",
       "724    1592       7\n",
       "725    1612       7\n",
       "726    1616       7\n",
       "727    1627       7\n",
       "728    1633       7\n",
       "729    1640       7\n",
       "730    1642       7\n",
       "731    1644       7\n",
       "732    1649       7\n",
       "733    1656       7\n",
       "734    1658       7\n",
       "735    1659       7\n",
       "736    1663       7\n",
       "737    1671       7\n",
       "738    1692       7\n",
       "739      11       8\n",
       "740     345       8\n",
       "741     384       8\n",
       "742     399       8\n",
       "743     681       8\n",
       "744     687       8\n",
       "745     731       8\n",
       "746     821       8\n",
       "747     857       8\n",
       "748     867       8\n",
       "749     986       8\n",
       "750    1202       8\n",
       "751    1230       8\n",
       "752    1335       8\n",
       "753    1373       8\n",
       "754    1380       8\n",
       "755    1458       8\n",
       "756    1625       8\n",
       "757    1655       8\n",
       "758    1661       8\n",
       "759    1665       8\n",
       "760      20       9\n",
       "761      24       9\n",
       "762      26       9\n",
       "763      54       9\n",
       "764      58       9\n",
       "765      61       9\n",
       "766      79       9\n",
       "767      80       9\n",
       "768      85       9\n",
       "769      91       9\n",
       "770      96       9\n",
       "771      99       9\n",
       "772     136       9\n",
       "773     138       9\n",
       "774     141       9\n",
       "775     170       9\n",
       "776     190       9\n",
       "777     203       9\n",
       "778     206       9\n",
       "779     213       9\n",
       "780     240       9\n",
       "781     245       9\n",
       "782     247       9\n",
       "783     256       9\n",
       "784     258       9\n",
       "785     272       9\n",
       "786     281       9\n",
       "787     285       9\n",
       "788     286       9\n",
       "789     299       9\n",
       "790     309       9\n",
       "791     312       9\n",
       "792     346       9\n",
       "793     358       9\n",
       "794     428       9\n",
       "795     431       9\n",
       "796     438       9\n",
       "797     440       9\n",
       "798     464       9\n",
       "799     470       9\n",
       "800     502       9\n",
       "801     513       9\n",
       "802     536       9\n",
       "803     549       9\n",
       "804     556       9\n",
       "805     570       9\n",
       "806     577       9\n",
       "807     581       9\n",
       "808     597       9\n",
       "809     613       9\n",
       "810     638       9\n",
       "811     653       9\n",
       "812     660       9\n",
       "813     673       9\n",
       "814     685       9\n",
       "815     708       9\n",
       "816     723       9\n",
       "817     732       9\n",
       "818     734       9\n",
       "819     761       9\n",
       "820     804       9\n",
       "821     833       9\n",
       "822     841       9\n",
       "823     848       9\n",
       "824     852       9\n",
       "825     855       9\n",
       "826     856       9\n",
       "827     862       9\n",
       "828     868       9\n",
       "829     877       9\n",
       "830     949       9\n",
       "831     953       9\n",
       "832     960       9\n",
       "833     966       9\n",
       "834     979       9\n",
       "835     990       9\n",
       "836     992       9\n",
       "837    1000       9\n",
       "838    1011       9\n",
       "839    1013       9\n",
       "840    1017       9\n",
       "841    1040       9\n",
       "842    1050       9\n",
       "843    1051       9\n",
       "844    1061       9\n",
       "845    1066       9\n",
       "846    1072       9\n",
       "847    1080       9\n",
       "848    1084       9\n",
       "849    1089       9\n",
       "850    1096       9\n",
       "851    1116       9\n",
       "852    1134       9\n",
       "853    1140       9\n",
       "854    1142       9\n",
       "855    1146       9\n",
       "856    1160       9\n",
       "857    1226       9\n",
       "858    1258       9\n",
       "859    1275       9\n",
       "860    1282       9\n",
       "861    1286       9\n",
       "862    1299       9\n",
       "863    1310       9\n",
       "864    1337       9\n",
       "865    1339       9\n",
       "866    1344       9\n",
       "867    1352       9\n",
       "868    1353       9\n",
       "869    1359       9\n",
       "870    1378       9\n",
       "871    1385       9\n",
       "872    1408       9\n",
       "873    1409       9\n",
       "874    1411       9\n",
       "875    1420       9\n",
       "876    1425       9\n",
       "877    1443       9\n",
       "878    1465       9\n",
       "879    1466       9\n",
       "880    1482       9\n",
       "881    1499       9\n",
       "882    1501       9\n",
       "883    1520       9\n",
       "884    1556       9\n",
       "885    1557       9\n",
       "886    1561       9\n",
       "887    1574       9\n",
       "888    1593       9\n",
       "889    1598       9\n",
       "890    1609       9\n",
       "891    1618       9\n",
       "892    1619       9\n",
       "893    1622       9\n",
       "894    1630       9\n",
       "895    1632       9\n",
       "896    1668       9\n",
       "897    1693       9\n",
       "898      22      10\n",
       "899     808      10\n",
       "900     829      10\n",
       "901    1152      10\n",
       "902    1445      10\n",
       "903    1487      10\n",
       "904    1554      10\n",
       "905    1591      10\n",
       "906    1608      10\n",
       "907    1626      10\n",
       "908      40      11\n",
       "909     114      11\n",
       "910     211      11\n",
       "911     214      11\n",
       "912     222      11\n",
       "913     227      11\n",
       "914     349      11\n",
       "915     354      11\n",
       "916     467      11\n",
       "917     471      11\n",
       "918     486      11\n",
       "919     520      11\n",
       "920     521      11\n",
       "921     579      11\n",
       "922     668      11\n",
       "923     763      11\n",
       "924     778      11\n",
       "925     849      11\n",
       "926     895      11\n",
       "927    1010      11\n",
       "928    1044      11\n",
       "929    1106      11\n",
       "930    1300      11\n",
       "931    1403      11\n",
       "932    1507      11\n",
       "933    1516      11\n",
       "934      41      12\n",
       "935      48      12\n",
       "936      62      12\n",
       "937      65      12\n",
       "938      66      12\n",
       "939      71      12\n",
       "940     101      12\n",
       "941     106      12\n",
       "942     113      12\n",
       "943     118      12\n",
       "944     122      12\n",
       "945     124      12\n",
       "946     128      12\n",
       "947     131      12\n",
       "948     132      12\n",
       "949     144      12\n",
       "950     159      12\n",
       "951     160      12\n",
       "952     173      12\n",
       "953     181      12\n",
       "954     194      12\n",
       "955     238      12\n",
       "956     261      12\n",
       "957     283      12\n",
       "958     296      12\n",
       "959     305      12\n",
       "960     308      12\n",
       "961     318      12\n",
       "962     319      12\n",
       "963     328      12\n",
       "964     338      12\n",
       "965     366      12\n",
       "966     372      12\n",
       "967     401      12\n",
       "968     406      12\n",
       "969     442      12\n",
       "970     485      12\n",
       "971     490      12\n",
       "972     492      12\n",
       "973     496      12\n",
       "974     532      12\n",
       "975     541      12\n",
       "976     582      12\n",
       "977     584      12\n",
       "978     585      12\n",
       "979     588      12\n",
       "980     589      12\n",
       "981     595      12\n",
       "982     598      12\n",
       "983     603      12\n",
       "984     618      12\n",
       "985     621      12\n",
       "986     629      12\n",
       "987     633      12\n",
       "988     640      12\n",
       "989     649      12\n",
       "990     657      12\n",
       "991     658      12\n",
       "992     664      12\n",
       "993     692      12\n",
       "994     701      12\n",
       "995     712      12\n",
       "996     751      12\n",
       "997     756      12\n",
       "998     759      12\n",
       "999     776      12\n",
       "1000    794      12\n",
       "1001    795      12\n",
       "1002    796      12\n",
       "1003    800      12\n",
       "1004    814      12\n",
       "1005    818      12\n",
       "1006    819      12\n",
       "1007    828      12\n",
       "1008    873      12\n",
       "1009    874      12\n",
       "1010    878      12\n",
       "1011    888      12\n",
       "1012    908      12\n",
       "1013    930      12\n",
       "1014    931      12\n",
       "1015    942      12\n",
       "1016    964      12\n",
       "1017   1009      12\n",
       "1018   1014      12\n",
       "1019   1027      12\n",
       "1020   1031      12\n",
       "1021   1045      12\n",
       "1022   1049      12\n",
       "1023   1052      12\n",
       "1024   1065      12\n",
       "1025   1073      12\n",
       "1026   1075      12\n",
       "1027   1087      12\n",
       "1028   1102      12\n",
       "1029   1105      12\n",
       "1030   1112      12\n",
       "1031   1122      12\n",
       "1032   1164      12\n",
       "1033   1169      12\n",
       "1034   1173      12\n",
       "1035   1205      12\n",
       "1036   1223      12\n",
       "1037   1227      12\n",
       "1038   1237      12\n",
       "1039   1247      12\n",
       "1040   1256      12\n",
       "1041   1271      12\n",
       "1042   1309      12\n",
       "1043   1317      12\n",
       "1044   1326      12\n",
       "1045   1333      12\n",
       "1046   1365      12\n",
       "1047   1368      12\n",
       "1048   1370      12\n",
       "1049   1391      12\n",
       "1050   1399      12\n",
       "1051   1405      12\n",
       "1052   1417      12\n",
       "1053   1461      12\n",
       "1054   1473      12\n",
       "1055   1483      12\n",
       "1056   1495      12\n",
       "1057   1559      12\n",
       "1058   1564      12\n",
       "1059   1575      12\n",
       "1060   1629      12\n",
       "1061   1631      12\n",
       "1062   1646      12\n",
       "1063   1651      12\n",
       "1064   1664      12\n",
       "1065   1672      12\n",
       "1066   1694      12\n",
       "1067     98      13\n",
       "1068    573      13\n",
       "1069    643      13\n",
       "1070    860      13\n",
       "1071    920      13\n",
       "1072    944      13\n",
       "1073   1070      13\n",
       "1074   1120      13\n",
       "1075   1607      13\n",
       "1076   1610      13\n",
       "1077    436      14\n",
       "1078   1174      14\n",
       "1079   1218      14\n",
       "1080    594      15\n",
       "1081   1177      15\n",
       "1082   1259      15\n",
       "1083   1432      15\n",
       "1084   1489      15\n",
       "1085      6      16\n",
       "1086     17      16\n",
       "1087     25      16\n",
       "1088     37      16\n",
       "1089     77      16\n",
       "1090    126      16\n",
       "1091    130      16\n",
       "1092    135      16\n",
       "1093    145      16\n",
       "1094    162      16\n",
       "1095    184      16\n",
       "1096    210      16\n",
       "1097    304      16\n",
       "1098    356      16\n",
       "1099    426      16\n",
       "1100    448      16\n",
       "1101    458      16\n",
       "1102    480      16\n",
       "1103    489      16\n",
       "1104    493      16\n",
       "1105    500      16\n",
       "1106    535      16\n",
       "1107    551      16\n",
       "1108    560      16\n",
       "1109    568      16\n",
       "1110    569      16\n",
       "1111    572      16\n",
       "1112    576      16\n",
       "1113    580      16\n",
       "1114    607      16\n",
       "1115    617      16\n",
       "1116    630      16\n",
       "1117    631      16\n",
       "1118    637      16\n",
       "1119    639      16\n",
       "1120    648      16\n",
       "1121    654      16\n",
       "1122    666      16\n",
       "1123    667      16\n",
       "1124    675      16\n",
       "1125    686      16\n",
       "1126    693      16\n",
       "1127    702      16\n",
       "1128    718      16\n",
       "1129    721      16\n",
       "1130    728      16\n",
       "1131    748      16\n",
       "1132    774      16\n",
       "1133    780      16\n",
       "1134    782      16\n",
       "1135    784      16\n",
       "1136    785      16\n",
       "1137    791      16\n",
       "1138    799      16\n",
       "1139    845      16\n",
       "1140    850      16\n",
       "1141    890      16\n",
       "1142    896      16\n",
       "1143    901      16\n",
       "1144    904      16\n",
       "1145    934      16\n",
       "1146    939      16\n",
       "1147    951      16\n",
       "1148    980      16\n",
       "1149    989      16\n",
       "1150    996      16\n",
       "1151   1028      16\n",
       "1152   1046      16\n",
       "1153   1077      16\n",
       "1154   1082      16\n",
       "1155   1093      16\n",
       "1156   1103      16\n",
       "1157   1118      16\n",
       "1158   1124      16\n",
       "1159   1135      16\n",
       "1160   1137      16\n",
       "1161   1145      16\n",
       "1162   1148      16\n",
       "1163   1153      16\n",
       "1164   1154      16\n",
       "1165   1188      16\n",
       "1166   1203      16\n",
       "1167   1225      16\n",
       "1168   1249      16\n",
       "1169   1261      16\n",
       "1170   1266      16\n",
       "1171   1273      16\n",
       "1172   1283      16\n",
       "1173   1321      16\n",
       "1174   1323      16\n",
       "1175   1332      16\n",
       "1176   1367      16\n",
       "1177   1372      16\n",
       "1178   1374      16\n",
       "1179   1388      16\n",
       "1180   1415      16\n",
       "1181   1421      16\n",
       "1182   1423      16\n",
       "1183   1440      16\n",
       "1184   1475      16\n",
       "1185   1477      16\n",
       "1186   1525      16\n",
       "1187   1548      16\n",
       "1188   1589      16\n",
       "1189   1624      16\n",
       "1190   1654      16\n",
       "1191   1685      16\n",
       "1192   1687      16\n",
       "1193     30      17\n",
       "1194     52      17\n",
       "1195     83      17\n",
       "1196    143      17\n",
       "1197    174      17\n",
       "1198    298      17\n",
       "1199    301      17\n",
       "1200    331      17\n",
       "1201    414      17\n",
       "1202    446      17\n",
       "1203    449      17\n",
       "1204    451      17\n",
       "1205    459      17\n",
       "1206    479      17\n",
       "1207    506      17\n",
       "1208    514      17\n",
       "1209    543      17\n",
       "1210    574      17\n",
       "1211    578      17\n",
       "1212    596      17\n",
       "1213    616      17\n",
       "1214    620      17\n",
       "1215    624      17\n",
       "1216    627      17\n",
       "1217    641      17\n",
       "1218    642      17\n",
       "1219    661      17\n",
       "1220    670      17\n",
       "1221    698      17\n",
       "1222    703      17\n",
       "1223    709      17\n",
       "1224    710      17\n",
       "1225    716      17\n",
       "1226    735      17\n",
       "1227    741      17\n",
       "1228    752      17\n",
       "1229    755      17\n",
       "1230    824      17\n",
       "1231    831      17\n",
       "1232    832      17\n",
       "1233    863      17\n",
       "1234    866      17\n",
       "1235    879      17\n",
       "1236    880      17\n",
       "1237    884      17\n",
       "1238    898      17\n",
       "1239    909      17\n",
       "1240    929      17\n",
       "1241    933      17\n",
       "1242    937      17\n",
       "1243    947      17\n",
       "1244    977      17\n",
       "1245    999      17\n",
       "1246   1078      17\n",
       "1247   1100      17\n",
       "1248   1110      17\n",
       "1249   1115      17\n",
       "1250   1162      17\n",
       "1251   1179      17\n",
       "1252   1184      17\n",
       "1253   1191      17\n",
       "1254   1193      17\n",
       "1255   1211      17\n",
       "1256   1213      17\n",
       "1257   1248      17\n",
       "1258   1252      17\n",
       "1259   1263      17\n",
       "1260   1268      17\n",
       "1261   1270      17\n",
       "1262   1277      17\n",
       "1263   1291      17\n",
       "1264   1298      17\n",
       "1265   1311      17\n",
       "1266   1320      17\n",
       "1267   1340      17\n",
       "1268   1349      17\n",
       "1269   1357      17\n",
       "1270   1358      17\n",
       "1271   1366      17\n",
       "1272   1369      17\n",
       "1273   1389      17\n",
       "1274   1392      17\n",
       "1275   1400      17\n",
       "1276   1410      17\n",
       "1277   1429      17\n",
       "1278   1451      17\n",
       "1279   1488      17\n",
       "1280   1492      17\n",
       "1281   1494      17\n",
       "1282   1549      17\n",
       "1283   1558      17\n",
       "1284   1568      17\n",
       "1285   1586      17\n",
       "1286   1634      17\n",
       "1287   1635      17\n",
       "1288   1639      17\n",
       "1289   1662      17\n",
       "1290   1675      17\n",
       "1291   1676      17\n",
       "1292   1680      17\n",
       "1293   1681      17\n",
       "1294   1684      17\n",
       "1295   1696      17\n",
       "1296   1699      17\n",
       "1297     45      18\n",
       "1298    152      18\n",
       "1299    175      18\n",
       "1300    450      18\n",
       "1301    567      18\n",
       "1302    625      18\n",
       "1303    636      18\n",
       "1304    684      18\n",
       "1305    773      18\n",
       "1306    940      18\n",
       "1307    948      18\n",
       "1308    993      18\n",
       "1309   1175      18\n",
       "1310   1216      18\n",
       "1311   1224      18\n",
       "1312   1265      18\n",
       "1313   1348      18\n",
       "1314   1364      18\n",
       "1315   1376      18\n",
       "1316   1450      18\n",
       "1317   1453      18\n",
       "1318   1480      18\n",
       "1319   1628      18\n",
       "1320    148      19\n",
       "1321    343      19\n",
       "1322   1015      19\n",
       "1323   1127      19\n",
       "1324   1128      19\n",
       "1325   1253      19\n",
       "1326   1384      19\n",
       "1327   1412      19\n",
       "1328    158      20\n",
       "1329    202      20\n",
       "1330    571      20\n",
       "1331    600      20\n",
       "1332    605      20\n",
       "1333    655      20\n",
       "1334    695      20\n",
       "1335    742      20\n",
       "1336    743      20\n",
       "1337    792      20\n",
       "1338    813      20\n",
       "1339    875      20\n",
       "1340    921      20\n",
       "1341   1099      20\n",
       "1342   1157      20\n",
       "1343   1371      20\n",
       "1344   1439      20\n",
       "1345     14      21\n",
       "1346     18      21\n",
       "1347     28      21\n",
       "1348     42      21\n",
       "1349     44      21\n",
       "1350     69      21\n",
       "1351     74      21\n",
       "1352     86      21\n",
       "1353     93      21\n",
       "1354     94      21\n",
       "1355    102      21\n",
       "1356    107      21\n",
       "1357    123      21\n",
       "1358    134      21\n",
       "1359    149      21\n",
       "1360    172      21\n",
       "1361    198      21\n",
       "1362    199      21\n",
       "1363    204      21\n",
       "1364    221      21\n",
       "1365    225      21\n",
       "1366    237      21\n",
       "1367    246      21\n",
       "1368    270      21\n",
       "1369    276      21\n",
       "1370    291      21\n",
       "1371    292      21\n",
       "1372    307      21\n",
       "1373    315      21\n",
       "1374    327      21\n",
       "1375    334      21\n",
       "1376    335      21\n",
       "1377    339      21\n",
       "1378    355      21\n",
       "1379    357      21\n",
       "1380    371      21\n",
       "1381    393      21\n",
       "1382    409      21\n",
       "1383    433      21\n",
       "1384    456      21\n",
       "1385    482      21\n",
       "1386    497      21\n",
       "1387    511      21\n",
       "1388    528      21\n",
       "1389    533      21\n",
       "1390    534      21\n",
       "1391    644      21\n",
       "1392    662      21\n",
       "1393    663      21\n",
       "1394    669      21\n",
       "1395    671      21\n",
       "1396    678      21\n",
       "1397    688      21\n",
       "1398    689      21\n",
       "1399    690      21\n",
       "1400    696      21\n",
       "1401    705      21\n",
       "1402    719      21\n",
       "1403    725      21\n",
       "1404    730      21\n",
       "1405    777      21\n",
       "1406    803      21\n",
       "1407    812      21\n",
       "1408    816      21\n",
       "1409    834      21\n",
       "1410    853      21\n",
       "1411    861      21\n",
       "1412    881      21\n",
       "1413    883      21\n",
       "1414    899      21\n",
       "1415    900      21\n",
       "1416    912      21\n",
       "1417    913      21\n",
       "1418    917      21\n",
       "1419    918      21\n",
       "1420    923      21\n",
       "1421    928      21\n",
       "1422    968      21\n",
       "1423    975      21\n",
       "1424   1003      21\n",
       "1425   1007      21\n",
       "1426   1022      21\n",
       "1427   1035      21\n",
       "1428   1041      21\n",
       "1429   1054      21\n",
       "1430   1059      21\n",
       "1431   1083      21\n",
       "1432   1092      21\n",
       "1433   1139      21\n",
       "1434   1167      21\n",
       "1435   1172      21\n",
       "1436   1176      21\n",
       "1437   1194      21\n",
       "1438   1217      21\n",
       "1439   1243      21\n",
       "1440   1297      21\n",
       "1441   1318      21\n",
       "1442   1322      21\n",
       "1443   1334      21\n",
       "1444   1375      21\n",
       "1445   1377      21\n",
       "1446   1397      21\n",
       "1447   1424      21\n",
       "1448   1428      21\n",
       "1449   1433      21\n",
       "1450   1438      21\n",
       "1451   1467      21\n",
       "1452   1478      21\n",
       "1453   1514      21\n",
       "1454   1517      21\n",
       "1455   1540      21\n",
       "1456   1577      21\n",
       "1457   1621      21\n",
       "1458   1641      21\n",
       "1459   1679      21\n",
       "1460    798      22\n",
       "1461    827      22\n",
       "1462    924      22\n",
       "1463     19      23\n",
       "1464     29      23\n",
       "1465     31      23\n",
       "1466     33      23\n",
       "1467     35      23\n",
       "1468     36      23\n",
       "1469     53      23\n",
       "1470     57      23\n",
       "1471     63      23\n",
       "1472     67      23\n",
       "1473     72      23\n",
       "1474     75      23\n",
       "1475     78      23\n",
       "1476     84      23\n",
       "1477     89      23\n",
       "1478     97      23\n",
       "1479    116      23\n",
       "1480    127      23\n",
       "1481    129      23\n",
       "1482    142      23\n",
       "1483    146      23\n",
       "1484    151      23\n",
       "1485    153      23\n",
       "1486    156      23\n",
       "1487    157      23\n",
       "1488    166      23\n",
       "1489    167      23\n",
       "1490    179      23\n",
       "1491    183      23\n",
       "1492    185      23\n",
       "1493    188      23\n",
       "1494    191      23\n",
       "1495    193      23\n",
       "1496    215      23\n",
       "1497    217      23\n",
       "1498    229      23\n",
       "1499    231      23\n",
       "1500    232      23\n",
       "1501    234      23\n",
       "1502    241      23\n",
       "1503    257      23\n",
       "1504    259      23\n",
       "1505    260      23\n",
       "1506    264      23\n",
       "1507    265      23\n",
       "1508    284      23\n",
       "1509    287      23\n",
       "1510    290      23\n",
       "1511    295      23\n",
       "1512    300      23\n",
       "1513    303      23\n",
       "1514    314      23\n",
       "1515    320      23\n",
       "1516    321      23\n",
       "1517    329      23\n",
       "1518    330      23\n",
       "1519    332      23\n",
       "1520    365      23\n",
       "1521    369      23\n",
       "1522    381      23\n",
       "1523    394      23\n",
       "1524    396      23\n",
       "1525    404      23\n",
       "1526    408      23\n",
       "1527    418      23\n",
       "1528    439      23\n",
       "1529    441      23\n",
       "1530    443      23\n",
       "1531    445      23\n",
       "1532    461      23\n",
       "1533    463      23\n",
       "1534    466      23\n",
       "1535    472      23\n",
       "1536    476      23\n",
       "1537    478      23\n",
       "1538    483      23\n",
       "1539    491      23\n",
       "1540    510      23\n",
       "1541    526      23\n",
       "1542    538      23\n",
       "1543    542      23\n",
       "1544    544      23\n",
       "1545    546      23\n",
       "1546    547      23\n",
       "1547    552      23\n",
       "1548    555      23\n",
       "1549    559      23\n",
       "1550    566      23\n",
       "1551    583      23\n",
       "1552    587      23\n",
       "1553    591      23\n",
       "1554    606      23\n",
       "1555    610      23\n",
       "1556    614      23\n",
       "1557    622      23\n",
       "1558    676      23\n",
       "1559    677      23\n",
       "1560    682      23\n",
       "1561    691      23\n",
       "1562    704      23\n",
       "1563    707      23\n",
       "1564    715      23\n",
       "1565    724      23\n",
       "1566    737      23\n",
       "1567    738      23\n",
       "1568    739      23\n",
       "1569    750      23\n",
       "1570    757      23\n",
       "1571    762      23\n",
       "1572    771      23\n",
       "1573    775      23\n",
       "1574    786      23\n",
       "1575    793      23\n",
       "1576    811      23\n",
       "1577    822      23\n",
       "1578    823      23\n",
       "1579    835      23\n",
       "1580    837      23\n",
       "1581    838      23\n",
       "1582    842      23\n",
       "1583    843      23\n",
       "1584    846      23\n",
       "1585    854      23\n",
       "1586    869      23\n",
       "1587    872      23\n",
       "1588    876      23\n",
       "1589    886      23\n",
       "1590    887      23\n",
       "1591    891      23\n",
       "1592    906      23\n",
       "1593    911      23\n",
       "1594    926      23\n",
       "1595    927      23\n",
       "1596    935      23\n",
       "1597    936      23\n",
       "1598    941      23\n",
       "1599    946      23\n",
       "1600    957      23\n",
       "1601    961      23\n",
       "1602    965      23\n",
       "1603    970      23\n",
       "1604    971      23\n",
       "1605    973      23\n",
       "1606    978      23\n",
       "1607    982      23\n",
       "1608    994      23\n",
       "1609   1001      23\n",
       "1610   1002      23\n",
       "1611   1016      23\n",
       "1612   1024      23\n",
       "1613   1026      23\n",
       "1614   1033      23\n",
       "1615   1036      23\n",
       "1616   1038      23\n",
       "1617   1056      23\n",
       "1618   1063      23\n",
       "1619   1079      23\n",
       "1620   1113      23\n",
       "1621   1114      23\n",
       "1622   1129      23\n",
       "1623   1131      23\n",
       "1624   1132      23\n",
       "1625   1144      23\n",
       "1626   1151      23\n",
       "1627   1156      23\n",
       "1628   1171      23\n",
       "1629   1178      23\n",
       "1630   1181      23\n",
       "1631   1189      23\n",
       "1632   1210      23\n",
       "1633   1220      23\n",
       "1634   1221      23\n",
       "1635   1234      23\n",
       "1636   1238      23\n",
       "1637   1264      23\n",
       "1638   1280      23\n",
       "1639   1281      23\n",
       "1640   1288      23\n",
       "1641   1292      23\n",
       "1642   1293      23\n",
       "1643   1296      23\n",
       "1644   1304      23\n",
       "1645   1307      23\n",
       "1646   1319      23\n",
       "1647   1324      23\n",
       "1648   1338      23\n",
       "1649   1361      23\n",
       "1650   1387      23\n",
       "1651   1394      23\n",
       "1652   1395      23\n",
       "1653   1396      23\n",
       "1654   1416      23\n",
       "1655   1431      23\n",
       "1656   1441      23\n",
       "1657   1444      23\n",
       "1658   1452      23\n",
       "1659   1459      23\n",
       "1660   1493      23\n",
       "1661   1497      23\n",
       "1662   1504      23\n",
       "1663   1505      23\n",
       "1664   1519      23\n",
       "1665   1538      23\n",
       "1666   1543      23\n",
       "1667   1567      23\n",
       "1668   1580      23\n",
       "1669   1585      23\n",
       "1670   1588      23\n",
       "1671   1599      23\n",
       "1672   1615      23\n",
       "1673   1648      23\n",
       "1674   1689      23\n",
       "1675   1690      23\n",
       "1676     59      24\n",
       "1677    119      24\n",
       "1678    209      24\n",
       "1679    250      24\n",
       "1680    310      24\n",
       "1681    360      24\n",
       "1682    452      24\n",
       "1683    632      24\n",
       "1684    726      24\n",
       "1685    744      24\n",
       "1686    770      24\n",
       "1687    789      24\n",
       "1688    809      24\n",
       "1689   1088      24\n",
       "1690   1138      24\n",
       "1691   1327      24\n",
       "1692   1350      24\n",
       "1693   1386      24\n",
       "1694   1390      24\n",
       "1695   1523      24\n",
       "1696     88      25\n",
       "1697    164      25\n",
       "1698    271      25\n",
       "1699    311      25\n",
       "1700   1419      25\n",
       "\n",
       "$csize\n",
       " [1] 270  20  14  20  11 162 241  21 138  10  26 133  10   3   5 108 104  23   8\n",
       "[20]  17 115   3 213  20   5\n"
      ]
     },
     "metadata": {},
     "output_type": "display_data"
    }
   ],
   "source": [
    "dissimilaritymatrix <- as.matrix(dist(df[,-c(1,35)]))\n",
    "results <- mst.knn(dissimilaritymatrix)\n",
    "results"
   ]
  },
  {
   "cell_type": "code",
   "execution_count": 20,
   "id": "72129605",
   "metadata": {
    "scrolled": true
   },
   "outputs": [
    {
     "data": {
      "text/plain": [
       "    \n",
       "       0   1\n",
       "  1  270   0\n",
       "  2   20   0\n",
       "  3   14   0\n",
       "  4   20   0\n",
       "  5   11   0\n",
       "  6  162   0\n",
       "  7  241   0\n",
       "  8   21   0\n",
       "  9  138   0\n",
       "  10  10   0\n",
       "  11  26   0\n",
       "  12 133   0\n",
       "  13  10   0\n",
       "  14   3   0\n",
       "  15   5   0\n",
       "  16 108   0\n",
       "  17 104   0\n",
       "  18  23   0\n",
       "  19   8   0\n",
       "  20  17   0\n",
       "  21 113   2\n",
       "  22   2   1\n",
       "  23 172  41\n",
       "  24  11   9\n",
       "  25   4   1"
      ]
     },
     "metadata": {},
     "output_type": "display_data"
    }
   ],
   "source": [
    "table(results$partition[,2], df$resposta)"
   ]
  },
  {
   "cell_type": "markdown",
   "id": "5e61b496",
   "metadata": {},
   "source": [
    "# Internal Criteria "
   ]
  },
  {
   "cell_type": "code",
   "execution_count": 11,
   "id": "b6ea73b3",
   "metadata": {},
   "outputs": [
    {
     "name": "stdout",
     "output_type": "stream",
     "text": [
      "[1] \"single linkage:\"\n"
     ]
    },
    {
     "data": {
      "text/html": [
       "<ol class=list-inline>\n",
       "\t<li>0.395895356503505</li>\n",
       "\t<li>0.0717930892501242</li>\n",
       "\t<li>6.9871292561985</li>\n",
       "\t<li>1232.77504349428</li>\n",
       "</ol>\n"
      ],
      "text/latex": [
       "\\begin{enumerate*}\n",
       "\\item 0.395895356503505\n",
       "\\item 0.0717930892501242\n",
       "\\item 6.9871292561985\n",
       "\\item 1232.77504349428\n",
       "\\end{enumerate*}\n"
      ],
      "text/markdown": [
       "1. 0.395895356503505\n",
       "2. 0.0717930892501242\n",
       "3. 6.9871292561985\n",
       "4. 1232.77504349428\n",
       "\n",
       "\n"
      ],
      "text/plain": [
       "[1] 3.958954e-01 7.179309e-02 6.987129e+00 1.232775e+03"
      ]
     },
     "metadata": {},
     "output_type": "display_data"
    },
    {
     "name": "stdout",
     "output_type": "stream",
     "text": [
      "[1] \"complete linkage:\"\n"
     ]
    },
    {
     "data": {
      "text/html": [
       "<ol class=list-inline>\n",
       "\t<li>0.43975045588828</li>\n",
       "\t<li>0.222031943906993</li>\n",
       "\t<li>5.20224526579641</li>\n",
       "\t<li>1234.06693965342</li>\n",
       "</ol>\n"
      ],
      "text/latex": [
       "\\begin{enumerate*}\n",
       "\\item 0.43975045588828\n",
       "\\item 0.222031943906993\n",
       "\\item 5.20224526579641\n",
       "\\item 1234.06693965342\n",
       "\\end{enumerate*}\n"
      ],
      "text/markdown": [
       "1. 0.43975045588828\n",
       "2. 0.222031943906993\n",
       "3. 5.20224526579641\n",
       "4. 1234.06693965342\n",
       "\n",
       "\n"
      ],
      "text/plain": [
       "[1]    0.4397505    0.2220319    5.2022453 1234.0669397"
      ]
     },
     "metadata": {},
     "output_type": "display_data"
    },
    {
     "name": "stdout",
     "output_type": "stream",
     "text": [
      "[1] \"average linkage:\"\n"
     ]
    },
    {
     "data": {
      "text/html": [
       "<ol class=list-inline>\n",
       "\t<li>0.395895356503505</li>\n",
       "\t<li>0.0717930892501242</li>\n",
       "\t<li>6.9871292561985</li>\n",
       "\t<li>1232.77504349428</li>\n",
       "</ol>\n"
      ],
      "text/latex": [
       "\\begin{enumerate*}\n",
       "\\item 0.395895356503505\n",
       "\\item 0.0717930892501242\n",
       "\\item 6.9871292561985\n",
       "\\item 1232.77504349428\n",
       "\\end{enumerate*}\n"
      ],
      "text/markdown": [
       "1. 0.395895356503505\n",
       "2. 0.0717930892501242\n",
       "3. 6.9871292561985\n",
       "4. 1232.77504349428\n",
       "\n",
       "\n"
      ],
      "text/plain": [
       "[1] 3.958954e-01 7.179309e-02 6.987129e+00 1.232775e+03"
      ]
     },
     "metadata": {},
     "output_type": "display_data"
    },
    {
     "name": "stdout",
     "output_type": "stream",
     "text": [
      "[1] \"ward's method:\"\n"
     ]
    },
    {
     "data": {
      "text/html": [
       "<ol class=list-inline>\n",
       "\t<li>0.212771968270755</li>\n",
       "\t<li>0.211530612666538</li>\n",
       "\t<li>97.069154002757</li>\n",
       "\t<li>2589.84712053963</li>\n",
       "</ol>\n"
      ],
      "text/latex": [
       "\\begin{enumerate*}\n",
       "\\item 0.212771968270755\n",
       "\\item 0.211530612666538\n",
       "\\item 97.069154002757\n",
       "\\item 2589.84712053963\n",
       "\\end{enumerate*}\n"
      ],
      "text/markdown": [
       "1. 0.212771968270755\n",
       "2. 0.211530612666538\n",
       "3. 97.069154002757\n",
       "4. 2589.84712053963\n",
       "\n",
       "\n"
      ],
      "text/plain": [
       "[1]    0.2127720    0.2115306   97.0691540 2589.8471205"
      ]
     },
     "metadata": {},
     "output_type": "display_data"
    },
    {
     "name": "stdout",
     "output_type": "stream",
     "text": [
      "[1] \"Diana:\"\n"
     ]
    },
    {
     "data": {
      "text/html": [
       "<ol class=list-inline>\n",
       "\t<li>0.171154732028384</li>\n",
       "\t<li>0.207347650759507</li>\n",
       "\t<li>74.57682745262</li>\n",
       "\t<li>2900.17709214297</li>\n",
       "</ol>\n"
      ],
      "text/latex": [
       "\\begin{enumerate*}\n",
       "\\item 0.171154732028384\n",
       "\\item 0.207347650759507\n",
       "\\item 74.57682745262\n",
       "\\item 2900.17709214297\n",
       "\\end{enumerate*}\n"
      ],
      "text/markdown": [
       "1. 0.171154732028384\n",
       "2. 0.207347650759507\n",
       "3. 74.57682745262\n",
       "4. 2900.17709214297\n",
       "\n",
       "\n"
      ],
      "text/plain": [
       "[1]    0.1711547    0.2073477   74.5768275 2900.1770921"
      ]
     },
     "metadata": {},
     "output_type": "display_data"
    },
    {
     "name": "stdout",
     "output_type": "stream",
     "text": [
      "[1] \"k-means:\"\n"
     ]
    },
    {
     "data": {
      "text/html": [
       "<ol class=list-inline>\n",
       "\t<li>0.118724493704374</li>\n",
       "\t<li>0.383142765319168</li>\n",
       "\t<li>123.989405989633</li>\n",
       "\t<li>2307.54283480715</li>\n",
       "</ol>\n"
      ],
      "text/latex": [
       "\\begin{enumerate*}\n",
       "\\item 0.118724493704374\n",
       "\\item 0.383142765319168\n",
       "\\item 123.989405989633\n",
       "\\item 2307.54283480715\n",
       "\\end{enumerate*}\n"
      ],
      "text/markdown": [
       "1. 0.118724493704374\n",
       "2. 0.383142765319168\n",
       "3. 123.989405989633\n",
       "4. 2307.54283480715\n",
       "\n",
       "\n"
      ],
      "text/plain": [
       "[1]    0.1187245    0.3831428  123.9894060 2307.5428348"
      ]
     },
     "metadata": {},
     "output_type": "display_data"
    },
    {
     "name": "stdout",
     "output_type": "stream",
     "text": [
      "[1] \"k-medoids:\"\n"
     ]
    },
    {
     "data": {
      "text/html": [
       "<ol class=list-inline>\n",
       "\t<li>0.1172492138508</li>\n",
       "\t<li>0.394697276895738</li>\n",
       "\t<li>80.2938509083506</li>\n",
       "\t<li>2402.79917301125</li>\n",
       "</ol>\n"
      ],
      "text/latex": [
       "\\begin{enumerate*}\n",
       "\\item 0.1172492138508\n",
       "\\item 0.394697276895738\n",
       "\\item 80.2938509083506\n",
       "\\item 2402.79917301125\n",
       "\\end{enumerate*}\n"
      ],
      "text/markdown": [
       "1. 0.1172492138508\n",
       "2. 0.394697276895738\n",
       "3. 80.2938509083506\n",
       "4. 2402.79917301125\n",
       "\n",
       "\n"
      ],
      "text/plain": [
       "[1]    0.1172492    0.3946973   80.2938509 2402.7991730"
      ]
     },
     "metadata": {},
     "output_type": "display_data"
    },
    {
     "name": "stdout",
     "output_type": "stream",
     "text": [
      "[1] \"kernel k-means:\"\n"
     ]
    },
    {
     "data": {
      "text/html": [
       "<ol class=list-inline>\n",
       "\t<li>0.12548566199508</li>\n",
       "\t<li>0.393254978137163</li>\n",
       "\t<li>94.7739402663285</li>\n",
       "\t<li>2342.82812112484</li>\n",
       "</ol>\n"
      ],
      "text/latex": [
       "\\begin{enumerate*}\n",
       "\\item 0.12548566199508\n",
       "\\item 0.393254978137163\n",
       "\\item 94.7739402663285\n",
       "\\item 2342.82812112484\n",
       "\\end{enumerate*}\n"
      ],
      "text/markdown": [
       "1. 0.12548566199508\n",
       "2. 0.393254978137163\n",
       "3. 94.7739402663285\n",
       "4. 2342.82812112484\n",
       "\n",
       "\n"
      ],
      "text/plain": [
       "[1]    0.1254857    0.3932550   94.7739403 2342.8281211"
      ]
     },
     "metadata": {},
     "output_type": "display_data"
    },
    {
     "name": "stdout",
     "output_type": "stream",
     "text": [
      "[1] \"kernel kmeans2:\"\n"
     ]
    },
    {
     "data": {
      "text/html": [
       "<ol class=list-inline>\n",
       "\t<li>0.168567991522161</li>\n",
       "\t<li>0.340981263017926</li>\n",
       "\t<li>112.755166683461</li>\n",
       "\t<li>2381.79059028031</li>\n",
       "</ol>\n"
      ],
      "text/latex": [
       "\\begin{enumerate*}\n",
       "\\item 0.168567991522161\n",
       "\\item 0.340981263017926\n",
       "\\item 112.755166683461\n",
       "\\item 2381.79059028031\n",
       "\\end{enumerate*}\n"
      ],
      "text/markdown": [
       "1. 0.168567991522161\n",
       "2. 0.340981263017926\n",
       "3. 112.755166683461\n",
       "4. 2381.79059028031\n",
       "\n",
       "\n"
      ],
      "text/plain": [
       "[1]    0.1685680    0.3409813  112.7551667 2381.7905903"
      ]
     },
     "metadata": {},
     "output_type": "display_data"
    },
    {
     "name": "stdout",
     "output_type": "stream",
     "text": [
      "[1] \"spectral:\"\n"
     ]
    },
    {
     "data": {
      "text/html": [
       "<ol class=list-inline>\n",
       "\t<li>0.098608850103108</li>\n",
       "\t<li>0.439542588697484</li>\n",
       "\t<li>49.8055341586253</li>\n",
       "\t<li>2416.01579069073</li>\n",
       "</ol>\n"
      ],
      "text/latex": [
       "\\begin{enumerate*}\n",
       "\\item 0.098608850103108\n",
       "\\item 0.439542588697484\n",
       "\\item 49.8055341586253\n",
       "\\item 2416.01579069073\n",
       "\\end{enumerate*}\n"
      ],
      "text/markdown": [
       "1. 0.098608850103108\n",
       "2. 0.439542588697484\n",
       "3. 49.8055341586253\n",
       "4. 2416.01579069073\n",
       "\n",
       "\n"
      ],
      "text/plain": [
       "[1] 9.860885e-02 4.395426e-01 4.980553e+01 2.416016e+03"
      ]
     },
     "metadata": {},
     "output_type": "display_data"
    }
   ],
   "source": [
    "print(\"single linkage:\")\n",
    "as.numeric(intCriteria(as.matrix(df[,-c(1,35)]),cutree(data_single,2),c(\"Dunn\",\"C_index\",\"Calinski_Harabasz\",\"Ball_Hall\")))\n",
    "print(\"complete linkage:\")\n",
    "as.numeric(intCriteria(as.matrix(df[,-c(1,35)]),cutree(data_complete,2),c(\"Dunn\",\"C_index\",\"Calinski_Harabasz\",\"Ball_Hall\")))\n",
    "print(\"average linkage:\")\n",
    "as.numeric(intCriteria(as.matrix(df[,-c(1,35)]),cutree(data_average,2),c(\"Dunn\",\"C_index\",\"Calinski_Harabasz\",\"Ball_Hall\")))\n",
    "print(\"ward's method:\")\n",
    "as.numeric(intCriteria(as.matrix(df[,-c(1,35)]),cutree(data_ward,2),c(\"Dunn\",\"C_index\",\"Calinski_Harabasz\",\"Ball_Hall\")))\n",
    "print(\"Diana:\")\n",
    "as.numeric(intCriteria(as.matrix(df[,-c(1,35)]),cutree(data_diana,2),c(\"Dunn\",\"C_index\",\"Calinski_Harabasz\",\"Ball_Hall\")))\n",
    "print(\"k-means:\")\n",
    "as.numeric(intCriteria(as.matrix(df[,-c(1,35)]),k1$cluster,c(\"Dunn\",\"C_index\",\"Calinski_Harabasz\",\"Ball_Hall\")))\n",
    "print(\"k-medoids:\")\n",
    "as.numeric(intCriteria(as.matrix(df[,-c(1,35)]),k2$cluster,c(\"Dunn\",\"C_index\",\"Calinski_Harabasz\",\"Ball_Hall\")))\n",
    "print(\"kernel k-means:\")\n",
    "as.numeric(intCriteria(as.matrix(df[,-c(1,35)]),dfkernel[1:1700],c(\"Dunn\",\"C_index\",\"Calinski_Harabasz\",\"Ball_Hall\")))\n",
    "print(\"kernel kmeans2:\")\n",
    "as.numeric(intCriteria(as.matrix(df[,-c(1,35)]),dfkernel2[1:1700],c(\"Dunn\",\"C_index\",\"Calinski_Harabasz\",\"Ball_Hall\")))\n",
    "print(\"spectral:\")\n",
    "as.numeric(intCriteria(as.matrix(df[,-c(1,35)]),dfspectral[1:1700],c(\"Dunn\",\"C_index\",\"Calinski_Harabasz\",\"Ball_Hall\")))"
   ]
  },
  {
   "cell_type": "markdown",
   "id": "74d04440",
   "metadata": {},
   "source": [
    "## Classifier"
   ]
  },
  {
   "cell_type": "code",
   "execution_count": 12,
   "id": "4e14a96c",
   "metadata": {},
   "outputs": [],
   "source": [
    "#Adding a column to the original response variable with the cluster it belongs to:\n",
    "#small detail: replacing cluster numbers with the corresponding response class\n",
    "df_cluster<-df[,-c(1)]\n",
    "df_realresponse <- df[,-c(1)]\n",
    "for(i in 1:length(df$resposta)){\n",
    "  if(dfkernel[i]==1){\n",
    "    df_cluster$cluster[i]=0\n",
    "  }\n",
    "  else{\n",
    "    df_cluster$cluster[i]=1\n",
    "  }\n",
    "}"
   ]
  },
  {
   "cell_type": "code",
   "execution_count": 13,
   "id": "bf63d90e",
   "metadata": {},
   "outputs": [],
   "source": [
    "df_cluster$cluster<- as.factor(df_cluster$cluster)\n",
    "\n",
    "set.seed(5968) #in order to have the same testing and train groups as in the fist project\n",
    "\n",
    "indxTrain <- createDataPartition(y = df_cluster$cluster ,p = 0.9,list = FALSE)\n",
    "data.train_cluster <- df_cluster[indxTrain,]\n",
    "data.test_cluster <- df_cluster[-indxTrain,] \n",
    "\n",
    "data.train_rr <- df_realresponse[indxTrain,]\n",
    "data.test_rr <- df_realresponse[-indxTrain,] \n",
    "\n",
    "\n",
    "\n",
    "x = caret::trainControl(method = 'cv',\n",
    "                        number = 10\n",
    ")"
   ]
  },
  {
   "cell_type": "markdown",
   "id": "c91d4206",
   "metadata": {},
   "source": [
    "Training in order to identify the cluster to which it belongs to:"
   ]
  },
  {
   "cell_type": "code",
   "execution_count": 14,
   "id": "720d0590",
   "metadata": {},
   "outputs": [
    {
     "data": {
      "text/plain": [
       "Confusion Matrix and Statistics\n",
       "\n",
       "          Reference\n",
       "Prediction  0  1\n",
       "         0 79  4\n",
       "         1  5 81\n",
       "                                          \n",
       "               Accuracy : 0.9467          \n",
       "                 95% CI : (0.9013, 0.9754)\n",
       "    No Information Rate : 0.503           \n",
       "    P-Value [Acc > NIR] : <2e-16          \n",
       "                                          \n",
       "                  Kappa : 0.8935          \n",
       "                                          \n",
       " Mcnemar's Test P-Value : 1               \n",
       "                                          \n",
       "            Sensitivity : 0.9405          \n",
       "            Specificity : 0.9529          \n",
       "         Pos Pred Value : 0.9518          \n",
       "         Neg Pred Value : 0.9419          \n",
       "              Precision : 0.9518          \n",
       "                 Recall : 0.9405          \n",
       "                     F1 : 0.9461          \n",
       "             Prevalence : 0.4970          \n",
       "         Detection Rate : 0.4675          \n",
       "   Detection Prevalence : 0.4911          \n",
       "      Balanced Accuracy : 0.9467          \n",
       "                                          \n",
       "       'Positive' Class : 0               \n",
       "                                          "
      ]
     },
     "metadata": {},
     "output_type": "display_data"
    },
    {
     "data": {
      "image/png": "[encoded data removed]",
      "text/plain": [
       "plot without title"
      ]
     },
     "metadata": {},
     "output_type": "display_data"
    }
   ],
   "source": [
    "modelsvm<- caret::train(cluster~. , data = data.train_cluster, method = 'svmRadial',\n",
    "                 trControl = x, preProcess = c(\"center\",\"scale\"),  \n",
    "                 tuneLength = 10)\n",
    "#modelsvm\n",
    "plot(modelsvm)\n",
    "\n",
    "#confusion matrix and statistics for the model \n",
    "test_pred_svm <- predict(modelsvm, newdata = data.test_cluster)\n",
    "confusionMatrix(test_pred_svm, data.test_cluster$cluster,mode=\"everything\")"
   ]
  },
  {
   "cell_type": "markdown",
   "id": "512d6688",
   "metadata": {},
   "source": [
    "Comparing the results given by the clusters to the real response variable for the test data"
   ]
  },
  {
   "cell_type": "code",
   "execution_count": 15,
   "id": "b3ed9557",
   "metadata": {},
   "outputs": [
    {
     "data": {
      "text/plain": [
       "Confusion Matrix and Statistics\n",
       "\n",
       "          Reference\n",
       "Prediction  0  1\n",
       "         0 81  2\n",
       "         1 79  7\n",
       "                                         \n",
       "               Accuracy : 0.5207         \n",
       "                 95% CI : (0.4427, 0.598)\n",
       "    No Information Rate : 0.9467         \n",
       "    P-Value [Acc > NIR] : 1              \n",
       "                                         \n",
       "                  Kappa : 0.0564         \n",
       "                                         \n",
       " Mcnemar's Test P-Value : <2e-16         \n",
       "                                         \n",
       "            Sensitivity : 0.77778        \n",
       "            Specificity : 0.50625        \n",
       "         Pos Pred Value : 0.08140        \n",
       "         Neg Pred Value : 0.97590        \n",
       "              Precision : 0.08140        \n",
       "                 Recall : 0.77778        \n",
       "                     F1 : 0.14737        \n",
       "             Prevalence : 0.05325        \n",
       "         Detection Rate : 0.04142        \n",
       "   Detection Prevalence : 0.50888        \n",
       "      Balanced Accuracy : 0.64201        \n",
       "                                         \n",
       "       'Positive' Class : 1              \n",
       "                                         "
      ]
     },
     "metadata": {},
     "output_type": "display_data"
    }
   ],
   "source": [
    "confusionMatrix(test_pred_svm, data.test_rr$resposta,mode=\"everything\", positive = \"1\")"
   ]
  },
  {
   "cell_type": "markdown",
   "id": "7f43887d",
   "metadata": {},
   "source": [
    "Comparison between clusters and the real response variable:"
   ]
  },
  {
   "cell_type": "code",
   "execution_count": 16,
   "id": "18b6181d",
   "metadata": {},
   "outputs": [
    {
     "data": {
      "text/plain": [
       "   \n",
       "      0   1\n",
       "  0 841   8\n",
       "  1 805  46"
      ]
     },
     "metadata": {},
     "output_type": "display_data"
    }
   ],
   "source": [
    "table(df_cluster$cluster, df_cluster$resposta)"
   ]
  },
  {
   "cell_type": "code",
   "execution_count": 21,
   "id": "ceb83657",
   "metadata": {},
   "outputs": [
    {
     "name": "stdout",
     "output_type": "stream",
     "text": [
      "[1] \"confusion matrix: first collum -> are truly positive;  second line -> are classified as negative\"\n",
      "   \n",
      "      0   1\n",
      "  0 841   8\n",
      "  1 805  46\n",
      "[1] \"accuracy:\"\n",
      "[1] 0.5217647\n",
      "[1] \"recalls:\"\n",
      "[1] 0.5109356 0.8518519\n",
      "[1] \"precisions:\"\n",
      "[1] 0.99057715 0.05405405\n",
      "[1] \"F1_measures:\"\n",
      "[1] 0.6741483 0.1016575\n",
      "[1] \"Overall F1_measure:\"\n",
      "[1] 0.3879029\n"
     ]
    }
   ],
   "source": [
    "print(\"confusion matrix: first collum -> are truly positive;  second line -> are classified as negative\")\n",
    "tt2<-table(df_cluster$cluster, df_cluster$resposta);print(tt2)\n",
    "print(\"accuracy:\")\n",
    "acc2<-sum(diag(tt2))/sum(tt2);print(acc2)\n",
    "print(\"recalls:\")\n",
    "recalls2 <- to_vec(for(i in 1:2) if(TRUE) diag(tt2)[i]/sum(tt2[,i]));print(recalls2)\n",
    "print(\"precisions:\")\n",
    "precisions2 <- to_vec(for(i in 1:2) if(TRUE) diag(tt2)[i]/sum(tt2[i,]));print(precisions2)\n",
    "print(\"F1_measures:\")\n",
    "F1_measure2 <-to_vec(for(i in 1:2) if(TRUE) 2*recalls2[i]*precisions2[i]/(recalls2[i]+precisions2[i])  );print(F1_measure2)\n",
    "print(\"Overall F1_measure:\")\n",
    "F1_2<- mean(c(F1_measure2));print(F1_2)"
   ]
  },
  {
   "cell_type": "code",
   "execution_count": null,
   "id": "9c8367e3",
   "metadata": {},
   "outputs": [],
   "source": []
  }
 ],
 "metadata": {
  "kernelspec": {
   "display_name": "R",
   "language": "R",
   "name": "ir"
  },
  "language_info": {
   "codemirror_mode": "r",
   "file_extension": ".r",
   "mimetype": "text/x-r-source",
   "name": "R",
   "pygments_lexer": "r",
   "version": "3.6.1"
  }
 },
 "nbformat": 4,
 "nbformat_minor": 5
}
